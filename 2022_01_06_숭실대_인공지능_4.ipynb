{
  "nbformat": 4,
  "nbformat_minor": 0,
  "metadata": {
    "colab": {
      "name": "2022-01-06-숭실대-인공지능-4.ipynb",
      "provenance": [],
      "collapsed_sections": []
    },
    "kernelspec": {
      "name": "python3",
      "display_name": "Python 3"
    },
    "language_info": {
      "name": "python"
    }
  },
  "cells": [
    {
      "cell_type": "code",
      "execution_count": 1,
      "metadata": {
        "colab": {
          "base_uri": "https://localhost:8080/"
        },
        "id": "lgGfbYZDhX0m",
        "outputId": "774ed452-27e8-4ed7-8cc4-3fddd9fe177a"
      },
      "outputs": [
        {
          "output_type": "stream",
          "name": "stdout",
          "text": [
            "--2022-01-06 13:32:14--  https://bit.ly/fruits_300\n",
            "Resolving bit.ly (bit.ly)... 67.199.248.10, 67.199.248.11\n",
            "Connecting to bit.ly (bit.ly)|67.199.248.10|:443... connected.\n",
            "HTTP request sent, awaiting response... 301 Moved Permanently\n",
            "Location: https://github.com/rickiepark/hongong-ml/raw/master/fruits_300.npy [following]\n",
            "--2022-01-06 13:32:14--  https://github.com/rickiepark/hongong-ml/raw/master/fruits_300.npy\n",
            "Resolving github.com (github.com)... 140.82.121.4\n",
            "Connecting to github.com (github.com)|140.82.121.4|:443... connected.\n",
            "HTTP request sent, awaiting response... 302 Found\n",
            "Location: https://raw.githubusercontent.com/rickiepark/hongong-ml/master/fruits_300.npy [following]\n",
            "--2022-01-06 13:32:15--  https://raw.githubusercontent.com/rickiepark/hongong-ml/master/fruits_300.npy\n",
            "Resolving raw.githubusercontent.com (raw.githubusercontent.com)... 185.199.108.133, 185.199.109.133, 185.199.110.133, ...\n",
            "Connecting to raw.githubusercontent.com (raw.githubusercontent.com)|185.199.108.133|:443... connected.\n",
            "HTTP request sent, awaiting response... 200 OK\n",
            "Length: 3000128 (2.9M) [application/octet-stream]\n",
            "Saving to: ‘fruits_300.npy’\n",
            "\n",
            "fruits_300.npy      100%[===================>]   2.86M  --.-KB/s    in 0.01s   \n",
            "\n",
            "2022-01-06 13:32:15 (222 MB/s) - ‘fruits_300.npy’ saved [3000128/3000128]\n",
            "\n"
          ]
        }
      ],
      "source": [
        "!wget https://bit.ly/fruits_300 -O fruits_300.npy"
      ]
    },
    {
      "cell_type": "code",
      "source": [
        "import numpy as np\n",
        "\n",
        "fruits = np.load('fruits_300.npy')\n",
        "fruits.shape"
      ],
      "metadata": {
        "colab": {
          "base_uri": "https://localhost:8080/"
        },
        "id": "qqFrEO3niLzB",
        "outputId": "0f2dd30b-8eff-4cb9-c4c8-481cfba96fa0"
      },
      "execution_count": 2,
      "outputs": [
        {
          "output_type": "execute_result",
          "data": {
            "text/plain": [
              "(300, 100, 100)"
            ]
          },
          "metadata": {},
          "execution_count": 2
        }
      ]
    },
    {
      "cell_type": "code",
      "source": [
        "fruits2 = fruits.reshape(-1,10000)\n",
        "fruits2.shape"
      ],
      "metadata": {
        "colab": {
          "base_uri": "https://localhost:8080/"
        },
        "id": "7F4-0cJRiZ7h",
        "outputId": "9921ac87-8839-42a8-8327-2fa764bbf2c6"
      },
      "execution_count": 3,
      "outputs": [
        {
          "output_type": "execute_result",
          "data": {
            "text/plain": [
              "(300, 10000)"
            ]
          },
          "metadata": {},
          "execution_count": 3
        }
      ]
    },
    {
      "cell_type": "code",
      "source": [
        "fruits2"
      ],
      "metadata": {
        "colab": {
          "base_uri": "https://localhost:8080/"
        },
        "id": "8k54BuT2iiUZ",
        "outputId": "021641f6-754f-4269-feb5-8c806c699984"
      },
      "execution_count": 4,
      "outputs": [
        {
          "output_type": "execute_result",
          "data": {
            "text/plain": [
              "array([[1, 1, 1, ..., 1, 1, 1],\n",
              "       [1, 1, 1, ..., 1, 1, 1],\n",
              "       [1, 1, 1, ..., 1, 1, 1],\n",
              "       ...,\n",
              "       [1, 1, 1, ..., 1, 1, 1],\n",
              "       [1, 1, 1, ..., 1, 1, 1],\n",
              "       [1, 1, 1, ..., 1, 1, 1]], dtype=uint8)"
            ]
          },
          "metadata": {},
          "execution_count": 4
        }
      ]
    },
    {
      "cell_type": "code",
      "source": [
        "from sklearn.cluster import KMeans\n",
        "\n",
        "# KMeans 라벨링 -> 모델 생성 -> 학습 -> 평가\n",
        "\n",
        "# 사과, 바나나, 파인애플 분류하는 머신러닝 모델\n",
        "# 사진 300장\n",
        "\n",
        "km = KMeans(n_clusters = 3)\n",
        "km.fit(fruits2)\n",
        "km.labels_"
      ],
      "metadata": {
        "colab": {
          "base_uri": "https://localhost:8080/"
        },
        "id": "T8jrA0WdikAo",
        "outputId": "48b592ee-5bdb-43fc-b250-e8cd624c80a6"
      },
      "execution_count": 5,
      "outputs": [
        {
          "output_type": "execute_result",
          "data": {
            "text/plain": [
              "array([0, 0, 0, 0, 0, 2, 0, 0, 0, 0, 0, 0, 0, 0, 0, 0, 0, 0, 2, 0, 0, 0,\n",
              "       0, 0, 0, 0, 0, 0, 0, 0, 0, 0, 0, 0, 0, 0, 0, 0, 0, 0, 0, 0, 2, 0,\n",
              "       2, 0, 0, 0, 0, 0, 0, 0, 2, 0, 0, 0, 0, 0, 0, 0, 0, 0, 2, 2, 0, 0,\n",
              "       0, 0, 0, 0, 0, 0, 2, 0, 0, 0, 0, 0, 0, 0, 0, 0, 0, 0, 0, 0, 0, 0,\n",
              "       0, 0, 0, 2, 0, 0, 0, 0, 0, 0, 0, 0, 2, 2, 2, 2, 2, 2, 2, 2, 2, 2,\n",
              "       2, 2, 2, 2, 2, 2, 2, 2, 2, 2, 2, 2, 2, 2, 2, 2, 2, 2, 2, 2, 2, 2,\n",
              "       2, 2, 2, 2, 2, 2, 2, 2, 2, 2, 2, 2, 2, 2, 2, 2, 2, 2, 2, 2, 2, 2,\n",
              "       2, 2, 2, 2, 2, 2, 2, 2, 2, 2, 2, 2, 2, 2, 2, 2, 2, 2, 2, 2, 2, 2,\n",
              "       2, 2, 2, 2, 2, 2, 2, 2, 2, 2, 2, 2, 2, 2, 2, 2, 2, 2, 2, 2, 2, 2,\n",
              "       2, 2, 1, 1, 1, 1, 1, 1, 1, 1, 1, 1, 1, 1, 1, 1, 1, 1, 1, 1, 1, 1,\n",
              "       1, 1, 1, 1, 1, 1, 1, 1, 1, 1, 1, 2, 1, 1, 1, 1, 1, 1, 1, 1, 1, 1,\n",
              "       1, 1, 1, 1, 1, 1, 1, 1, 1, 1, 1, 1, 1, 1, 1, 1, 1, 1, 1, 1, 1, 1,\n",
              "       1, 1, 1, 1, 1, 1, 1, 1, 1, 2, 1, 1, 1, 1, 1, 1, 1, 1, 1, 1, 1, 1,\n",
              "       1, 1, 1, 1, 1, 1, 1, 1, 1, 1, 1, 1, 1, 1], dtype=int32)"
            ]
          },
          "metadata": {},
          "execution_count": 5
        }
      ]
    },
    {
      "cell_type": "code",
      "source": [
        "from sklearn.model_selection import train_test_split\n",
        "from sklearn.linear_model import LogisticRegression\n",
        "from sklearn.neighbors import KNeighborsClassifier\n",
        "from sklearn.cluster import KMeans\n",
        "\n",
        "fruits = np.load('fruits_300.npy')\n",
        "fruits2 = fruits.reshape(-1,10000) / 255\n",
        "\n",
        "km = KMeans(n_clusters = 3)\n",
        "km.fit(fruits2)\n",
        "target = km.labels_\n",
        "\n",
        "train_input, test_input, train_target, test_target = train_test_split(fruits2, target, test_size = 0.2)\n",
        "\n",
        "model = KNeighborsClassifier()\n",
        "model.fit(train_input, train_target)\n",
        "model.score(test_input, test_target)"
      ],
      "metadata": {
        "colab": {
          "base_uri": "https://localhost:8080/"
        },
        "id": "wD4TveMgi2iE",
        "outputId": "f57b39f3-ce4a-40e4-c395-ad5c70a03f46"
      },
      "execution_count": 6,
      "outputs": [
        {
          "output_type": "execute_result",
          "data": {
            "text/plain": [
              "0.9833333333333333"
            ]
          },
          "metadata": {},
          "execution_count": 6
        }
      ]
    },
    {
      "cell_type": "code",
      "source": [
        "from sklearn.decomposition import PCA\n",
        "\n",
        "pca = PCA(n_components = 2)\n",
        "pca.fit(fruits2)"
      ],
      "metadata": {
        "colab": {
          "base_uri": "https://localhost:8080/"
        },
        "id": "89a0jPkijlGO",
        "outputId": "6a0034d7-4995-4ce9-eb55-966dd7e0548c"
      },
      "execution_count": 7,
      "outputs": [
        {
          "output_type": "execute_result",
          "data": {
            "text/plain": [
              "PCA(n_components=2)"
            ]
          },
          "metadata": {},
          "execution_count": 7
        }
      ]
    },
    {
      "cell_type": "code",
      "source": [
        "import matplotlib.pyplot as plt\n",
        "\n",
        "def draw_fruits(arr, ratio = 1):\n",
        "    \n",
        "    n = len(arr)\n",
        "    rows = int(np.ceil(n/10))\n",
        "    cols = n if rows<2 else 10\n",
        "\n",
        "    fig, axs = plt.subplots(rows, cols, figsize = (cols*ratio, rows*ratio), squeeze=False)\n",
        "\n",
        "    for i in range(rows):\n",
        "        for j in range(cols):\n",
        "            if i*10 + j < n:\n",
        "                axs[i,j].imshow(arr[i*10+j], cmap='gray_r')\n",
        "            axs[i,j].axis('off')\n",
        "        \n",
        "    plt.show()"
      ],
      "metadata": {
        "id": "Iu4zMDsjjv6f"
      },
      "execution_count": 8,
      "outputs": []
    },
    {
      "cell_type": "code",
      "source": [
        "a = pca.components_.reshape(-1,100,100)\n",
        "len(a)"
      ],
      "metadata": {
        "colab": {
          "base_uri": "https://localhost:8080/"
        },
        "id": "BOoTC6Pdkhlb",
        "outputId": "46a21543-28a7-4abf-b96c-962a57cf5ea1"
      },
      "execution_count": 9,
      "outputs": [
        {
          "output_type": "execute_result",
          "data": {
            "text/plain": [
              "2"
            ]
          },
          "metadata": {},
          "execution_count": 9
        }
      ]
    },
    {
      "cell_type": "code",
      "source": [
        "import matplotlib.pyplot as plt\n",
        "draw_fruits(a)"
      ],
      "metadata": {
        "colab": {
          "base_uri": "https://localhost:8080/",
          "height": 82
        },
        "id": "rq_t20MSk36p",
        "outputId": "d1fb7213-efed-4f8b-b209-5ee2477a7d5d"
      },
      "execution_count": 10,
      "outputs": [
        {
          "output_type": "display_data",
          "data": {
            "image/png": "[encoded data removed]",
            "text/plain": [
              "<Figure size 144x72 with 2 Axes>"
            ]
          },
          "metadata": {
            "needs_background": "light"
          }
        }
      ]
    },
    {
      "cell_type": "code",
      "source": [
        "fruits2.shape"
      ],
      "metadata": {
        "colab": {
          "base_uri": "https://localhost:8080/"
        },
        "id": "go3Bua95lhSi",
        "outputId": "b28cd7b1-1cae-4c87-cd64-2b33b2e7b6cf"
      },
      "execution_count": 12,
      "outputs": [
        {
          "output_type": "execute_result",
          "data": {
            "text/plain": [
              "(300, 10000)"
            ]
          },
          "metadata": {},
          "execution_count": 12
        }
      ]
    },
    {
      "cell_type": "code",
      "source": [
        "fruits_pca = pca.transform(fruits2)\n",
        "fruits_pca.shape"
      ],
      "metadata": {
        "colab": {
          "base_uri": "https://localhost:8080/"
        },
        "id": "_4gS3ngVl1K7",
        "outputId": "7c92135e-7bf6-4de3-db4d-d0824035e47a"
      },
      "execution_count": 13,
      "outputs": [
        {
          "output_type": "execute_result",
          "data": {
            "text/plain": [
              "(300, 2)"
            ]
          },
          "metadata": {},
          "execution_count": 13
        }
      ]
    },
    {
      "cell_type": "code",
      "source": [
        "fruits_pca"
      ],
      "metadata": {
        "colab": {
          "base_uri": "https://localhost:8080/"
        },
        "id": "qJInNpHul9Nx",
        "outputId": "0ba80e2c-d8fd-4a0e-d455-5c8984584b2e"
      },
      "execution_count": 14,
      "outputs": [
        {
          "output_type": "execute_result",
          "data": {
            "text/plain": [
              "array([[-10.89575606,  -6.164211  ],\n",
              "       [-12.07166138, -10.74223692],\n",
              "       [-10.27690482,  -5.8308649 ],\n",
              "       [-12.21065769,  -9.92165817],\n",
              "       [ -9.8848904 ,  -9.13979574],\n",
              "       [ -6.10485727,   0.48255552],\n",
              "       [-10.63289236,  -7.28373716],\n",
              "       [-11.31271701,  -7.20059947],\n",
              "       [ -9.06271531, -10.43318686],\n",
              "       [ -5.96575157,  -9.58970342],\n",
              "       [ -9.75261348,  -5.78647229],\n",
              "       [-10.98368286,  -7.84733788],\n",
              "       [-11.02181368,  -7.97789503],\n",
              "       [ -8.66313104,  -9.03437613],\n",
              "       [-11.44073766,  -9.56245221],\n",
              "       [ -8.62028194,  -2.49726216],\n",
              "       [ -9.08869875, -10.60706476],\n",
              "       [-12.90135938,  -9.55448408],\n",
              "       [-10.36058896,   1.97548659],\n",
              "       [-13.97598464,  -5.05886932],\n",
              "       [-14.54370969,  -6.17778895],\n",
              "       [ -9.50575003,  -8.15934678],\n",
              "       [-12.42799935,  -8.77938135],\n",
              "       [-11.99738986,  -8.82411372],\n",
              "       [-10.76794689,  -8.92926893],\n",
              "       [-12.49263888,  -3.75781707],\n",
              "       [-11.65164914,  -0.98340981],\n",
              "       [-10.93132928, -10.20690086],\n",
              "       [-13.72112127,  -7.59734712],\n",
              "       [-12.78701275,  -1.04039368],\n",
              "       [-10.28842158,  -8.75601777],\n",
              "       [ -9.05094594, -10.61992054],\n",
              "       [-12.75435961,  -4.62058801],\n",
              "       [-12.0960773 , -10.1649301 ],\n",
              "       [-12.5535031 ,  -8.08348629],\n",
              "       [-10.22905402,  -7.01710505],\n",
              "       [-13.29754014,  -8.72359764],\n",
              "       [ -7.54783827,  -9.09047296],\n",
              "       [-11.65841025,  -9.48135263],\n",
              "       [-12.13188411,  -7.56556102],\n",
              "       [ -9.2660434 ,  -9.08062829],\n",
              "       [-13.54691791,  -7.20913547],\n",
              "       [ -8.09024897,   2.13856077],\n",
              "       [-11.62075263,  -4.85121685],\n",
              "       [ -7.96597321,   1.85048345],\n",
              "       [ -7.25426259, -10.19221818],\n",
              "       [-13.06315292,  -1.64827369],\n",
              "       [ -9.85405014,  -9.37996244],\n",
              "       [-11.98345264,  -9.88575623],\n",
              "       [ -9.41997362,  -9.74949416],\n",
              "       [-11.53062639, -10.78661147],\n",
              "       [-11.82438842,  -6.06954089],\n",
              "       [-11.21861183,   0.6039138 ],\n",
              "       [ -9.6150226 ,  -8.02661147],\n",
              "       [ -9.06124396, -10.50535727],\n",
              "       [ -9.84575286,  -7.75678426],\n",
              "       [-10.32661165,  -8.300664  ],\n",
              "       [-12.07934689, -10.19910962],\n",
              "       [ -8.32809028, -10.16837556],\n",
              "       [-12.04744484, -10.78004524],\n",
              "       [-14.1872203 ,  -5.69845264],\n",
              "       [-10.51406337,  -7.99115442],\n",
              "       [ -6.59743425,   0.38444552],\n",
              "       [ -6.35255318,  -0.09506175],\n",
              "       [-13.71682702,  -7.75982337],\n",
              "       [ -9.83024769,  -5.72204964],\n",
              "       [-10.48255563,  -9.19062527],\n",
              "       [-12.22960588,  -7.70503497],\n",
              "       [-11.03123774, -10.36349392],\n",
              "       [ -9.97547211,  -5.20438196],\n",
              "       [-12.1150445 , -10.26265571],\n",
              "       [-12.64556646,  -4.83722229],\n",
              "       [ -5.97059806,   0.50778499],\n",
              "       [ -9.67571708,  -7.72174913],\n",
              "       [-11.8933051 , -11.08659199],\n",
              "       [-11.8670346 ,  -5.03282541],\n",
              "       [-10.38702562,  -9.83536778],\n",
              "       [-13.04502275,  -3.90631535],\n",
              "       [-12.13553813, -10.72288819],\n",
              "       [-12.68740908,  -2.30866018],\n",
              "       [-10.32242995,  -5.82490673],\n",
              "       [ -6.73408928,  -9.99305226],\n",
              "       [-11.20928084,  -4.52404015],\n",
              "       [ -7.86059853, -10.69909472],\n",
              "       [ -9.79322216,  -9.04324885],\n",
              "       [ -7.52888354, -10.00267475],\n",
              "       [-11.81245505, -11.19560226],\n",
              "       [-12.05559832, -10.78249593],\n",
              "       [ -5.99991091, -10.05836452],\n",
              "       [-10.11720977,  -5.74344371],\n",
              "       [-11.92523445,  -8.88119579],\n",
              "       [ -6.88499155,   0.57258832],\n",
              "       [-11.48835297, -10.84727428],\n",
              "       [ -9.4559565 ,  -9.89348919],\n",
              "       [-12.24036283,  -9.85578515],\n",
              "       [-13.32442864,  -8.77724342],\n",
              "       [-13.20765102,  -6.68375574],\n",
              "       [-12.68710132,  -8.22979934],\n",
              "       [ -9.87232009,  -5.38989772],\n",
              "       [ -9.60385143,  -8.04321745],\n",
              "       [-10.77852957,   8.3371907 ],\n",
              "       [ -6.73982049,   5.09754333],\n",
              "       [-10.45351019,   3.39507565],\n",
              "       [ -9.83485474,   9.31806756],\n",
              "       [-10.6132173 ,   9.56477038],\n",
              "       [ -9.91183372,   8.75710339],\n",
              "       [ -9.30616668,   9.2677341 ],\n",
              "       [ -8.96515625,   5.07251852],\n",
              "       [ -8.03899097,   8.77172326],\n",
              "       [-10.44583812,   2.89201528],\n",
              "       [ -8.83937104,   3.16066877],\n",
              "       [-11.38906084,   8.82442764],\n",
              "       [ -8.23877406,   4.26148738],\n",
              "       [ -9.46070612,   7.03136371],\n",
              "       [ -3.8302698 ,   7.6888646 ],\n",
              "       [-10.93483318,   9.85116932],\n",
              "       [ -9.15349647,   7.00470452],\n",
              "       [ -6.90052237,   4.87572902],\n",
              "       [-10.54043755,   9.23513533],\n",
              "       [ -7.39223756,   3.43123045],\n",
              "       [ -7.93239285,   3.96811014],\n",
              "       [-10.20674719,   8.39009064],\n",
              "       [ -9.16796411,  10.02855526],\n",
              "       [ -8.36970016,   7.81104756],\n",
              "       [-11.62726608,   3.45961068],\n",
              "       [ -8.87085855,  11.36911119],\n",
              "       [ -7.41805902,  10.78564583],\n",
              "       [-10.05263194,   8.66899832],\n",
              "       [ -8.18525096,   3.41553547],\n",
              "       [-10.74796823,   9.79006569],\n",
              "       [ -9.94421544,   4.8362061 ],\n",
              "       [ -9.479979  ,   9.43147072],\n",
              "       [ -6.92096644,  11.01433606],\n",
              "       [-11.07312904,   8.73990596],\n",
              "       [-10.34057585,   4.81793463],\n",
              "       [ -8.97261147,   4.50937448],\n",
              "       [-10.31540042,   9.04324036],\n",
              "       [-11.3730285 ,   8.91206848],\n",
              "       [ -9.09929731,  10.01904673],\n",
              "       [ -9.19951041,   4.8806633 ],\n",
              "       [ -6.97167919,   4.59462943],\n",
              "       [ -8.66891378,   4.13770248],\n",
              "       [ -9.20824802,   2.75911579],\n",
              "       [ -5.22477405,   8.20942397],\n",
              "       [ -9.09392362,   9.62210369],\n",
              "       [ -9.09346503,   9.92560381],\n",
              "       [ -6.61978103,  10.56826463],\n",
              "       [ -8.01788908,   5.2744978 ],\n",
              "       [-10.8232943 ,   9.75719401],\n",
              "       [ -9.42549653,   9.80053651],\n",
              "       [ -9.69914023,   9.30861207],\n",
              "       [ -9.43771431,   4.57849872],\n",
              "       [-10.63849937,   9.85918388],\n",
              "       [ -6.77633012,  11.29627965],\n",
              "       [-10.11866169,   7.43692799],\n",
              "       [ -9.9044149 ,   8.73057003],\n",
              "       [-10.53409893,   9.18788178],\n",
              "       [ -9.82213201,   9.33354663],\n",
              "       [-11.33318463,   8.2887613 ],\n",
              "       [ -7.39959699,   4.07654815],\n",
              "       [ -9.0962675 ,   9.88875159],\n",
              "       [ -9.15696466,   9.85220351],\n",
              "       [-11.10843273,   9.96477307],\n",
              "       [ -9.27204381,  11.49445992],\n",
              "       [-10.54380405,   9.06303476],\n",
              "       [ -9.93366244,   8.31026414],\n",
              "       [-10.06594593,   9.21175374],\n",
              "       [ -8.57962133,   4.97821048],\n",
              "       [ -3.43954813,   9.58336577],\n",
              "       [ -7.62283408,   3.58260318],\n",
              "       [ -9.18143788,  11.44091062],\n",
              "       [ -3.67020263,   9.28704323],\n",
              "       [ -9.04016459,   5.24708147],\n",
              "       [ -8.63109217,   6.76327603],\n",
              "       [-11.27985897,   9.03462219],\n",
              "       [ -9.82763002,   9.29140634],\n",
              "       [ -9.04743344,  10.01734355],\n",
              "       [-11.03724239,   8.60171835],\n",
              "       [ -9.56479868,   3.93821556],\n",
              "       [-10.08311546,   3.24861629],\n",
              "       [ -9.00397099,  11.26208969],\n",
              "       [ -9.53859861,   8.67830837],\n",
              "       [ -9.70433053,   9.31805622],\n",
              "       [ -8.43989379,   4.70056769],\n",
              "       [-10.06694012,   7.40578334],\n",
              "       [-11.13356638,   8.64837329],\n",
              "       [ -9.96864473,   8.85823711],\n",
              "       [-10.32827392,   9.91216703],\n",
              "       [-11.36000763,   7.94614291],\n",
              "       [ -8.11338148,   4.20219699],\n",
              "       [ -9.63796952,   4.72838329],\n",
              "       [-10.50578068,   8.52799338],\n",
              "       [-10.75122412,   4.20449905],\n",
              "       [ -9.41519374,   8.68935536],\n",
              "       [ -8.55533556,   8.0968189 ],\n",
              "       [ -9.31136903,  11.45317178],\n",
              "       [ -8.8048283 ,   8.01724088],\n",
              "       [ -9.16441668,   7.12451944],\n",
              "       [-10.46807104,   9.338844  ],\n",
              "       [-10.33982921,   5.7148004 ],\n",
              "       [ 27.54443627,  -0.16974809],\n",
              "       [ 25.55074193,  -0.27095146],\n",
              "       [ 17.83101957,  -6.17719064],\n",
              "       [ 28.07134535,   0.14503233],\n",
              "       [  9.13653776,   1.28536919],\n",
              "       [ 20.09649829,  -3.56399974],\n",
              "       [ 13.0643335 ,   2.66939772],\n",
              "       [ 24.41349566,   6.31123032],\n",
              "       [ 23.97072031,  -4.47728062],\n",
              "       [ 19.16882955,  -5.09750602],\n",
              "       [ 24.45622784,   5.94003557],\n",
              "       [ 24.06732605,  -3.66928489],\n",
              "       [ 22.15126733,  -5.06076533],\n",
              "       [ 17.53851875,  -1.8904986 ],\n",
              "       [  5.80051337,  -7.14203492],\n",
              "       [ 23.0855988 ,   7.32853511],\n",
              "       [ 16.81996882,  -5.48079095],\n",
              "       [ 19.61850781,  -4.14411637],\n",
              "       [ 19.74022651,  -3.91886097],\n",
              "       [ 27.26125809,   0.83525065],\n",
              "       [ 19.10166792,  -5.39999634],\n",
              "       [ 15.56942407,  -3.73183695],\n",
              "       [ 16.3070209 ,   4.22266736],\n",
              "       [  9.86635557,  -0.82076597],\n",
              "       [ 19.12051949,  -3.49886262],\n",
              "       [ 26.30003958,   0.12004333],\n",
              "       [ 13.65096176,  -1.41514393],\n",
              "       [ 15.14497186,  -6.56197375],\n",
              "       [ 17.22868347,   4.65376541],\n",
              "       [ 18.93327868,  -5.93650035],\n",
              "       [ 17.88616443,  -3.37512774],\n",
              "       [  5.87721832,   3.32528212],\n",
              "       [ 19.27921366,  -6.70901414],\n",
              "       [ 21.22198262,   7.05368819],\n",
              "       [  7.61492149,   0.17917536],\n",
              "       [ 21.76208347,   7.29678824],\n",
              "       [ 14.63485926,  -6.50577352],\n",
              "       [  7.73974387,  -0.63032012],\n",
              "       [ 22.13007053,   4.22184828],\n",
              "       [ 23.08981445,  -4.96302545],\n",
              "       [ 20.91662284,   6.70275652],\n",
              "       [ 24.47556119,   5.97536959],\n",
              "       [  7.96934683,   5.04059726],\n",
              "       [ 18.23164796,   4.86492375],\n",
              "       [ 24.09153551,   2.5253564 ],\n",
              "       [ 19.813075  ,  -3.74458112],\n",
              "       [ 18.76300247,   5.51223303],\n",
              "       [ 24.26974816,  -3.97630157],\n",
              "       [ 19.17729308,   5.00507888],\n",
              "       [ 23.29843525,   7.18508255],\n",
              "       [ 25.63404484,   1.05109909],\n",
              "       [  9.00268171,   5.14349749],\n",
              "       [ 27.01950927,   0.97375175],\n",
              "       [ 24.41647349,   5.86491675],\n",
              "       [ 24.05985888,  -4.38292108],\n",
              "       [ 26.88289399,   1.06221247],\n",
              "       [ 24.16239641,  -3.7668056 ],\n",
              "       [ 13.02793244,  -2.87413945],\n",
              "       [ 23.52023403,   7.01021768],\n",
              "       [ 14.82611955,  -3.12072014],\n",
              "       [ 13.90755084,  -3.03801048],\n",
              "       [ 23.91845414,  -4.443163  ],\n",
              "       [ 20.75134481,  -1.70898461],\n",
              "       [ 23.68288668,   2.890066  ],\n",
              "       [ 27.92081364,   0.36929172],\n",
              "       [ 24.92718874,  -5.78843112],\n",
              "       [ 27.44150701,  -0.19096319],\n",
              "       [ 24.3034416 ,   6.32076813],\n",
              "       [ 24.99171632,  -0.32805202],\n",
              "       [ 23.49089337,  -6.12726722],\n",
              "       [ 25.39117948,   1.68729328],\n",
              "       [ 18.5979746 ,  -6.25820669],\n",
              "       [ 24.38536415,   6.43741774],\n",
              "       [ -1.2332154 ,   3.25051076],\n",
              "       [ 17.88669602,  -5.68516916],\n",
              "       [ 11.71632672,  -8.26641941],\n",
              "       [ 28.0216105 ,   0.25096615],\n",
              "       [ 21.92415709,   7.37099559],\n",
              "       [ 15.6032869 ,  -3.14043536],\n",
              "       [ 18.54741996,  -3.45474608],\n",
              "       [ 21.96197801,  -0.04518017],\n",
              "       [ 24.07235404,  -3.73546517],\n",
              "       [ 21.05265222,   6.86999629],\n",
              "       [ 27.7742528 ,   0.55730407],\n",
              "       [ 19.71508802,  -5.77930266],\n",
              "       [ 21.77657565,  -5.08833377],\n",
              "       [ 24.31774402,  -4.31066687],\n",
              "       [ 21.37959722,  -0.56597624],\n",
              "       [ 20.99551323,  -1.26657028],\n",
              "       [ 17.04431711,  -5.96926689],\n",
              "       [ 28.03335348,   0.31433215],\n",
              "       [ 20.90846574,  -5.37939064],\n",
              "       [ 12.93798399,   1.88559876],\n",
              "       [ 17.1464279 ,  -5.70778154],\n",
              "       [ 20.27194905,   5.48261972],\n",
              "       [ 19.43349999,  -4.49128141],\n",
              "       [ 22.53473745,   7.55709739],\n",
              "       [ 20.32207327,   0.47749223],\n",
              "       [ 15.63916865,  -0.27796707],\n",
              "       [ 22.83868904,  -5.00779872]])"
            ]
          },
          "metadata": {},
          "execution_count": 14
        }
      ]
    },
    {
      "cell_type": "code",
      "source": [
        "train_input, test_input, train_target, test_target = train_test_split(fruits_pca, target, test_size = 0.2)\n",
        "\n",
        "model = KNeighborsClassifier()\n",
        "model.fit(train_input, train_target)\n",
        "model.score(test_input, test_target)"
      ],
      "metadata": {
        "colab": {
          "base_uri": "https://localhost:8080/"
        },
        "id": "Mp9AQfyhmJuB",
        "outputId": "23c978c3-4e32-45e1-fe12-2a2c5e85cb42"
      },
      "execution_count": 15,
      "outputs": [
        {
          "output_type": "execute_result",
          "data": {
            "text/plain": [
              "1.0"
            ]
          },
          "metadata": {},
          "execution_count": 15
        }
      ]
    },
    {
      "cell_type": "code",
      "source": [
        "for i in range(0,3):\n",
        "    data = fruits_pca[target == i]\n",
        "    plt.scatter(data[:,0], data[:,1])\n",
        "plt.legend(['apple','banana','pineapple'])\n",
        "plt.show()"
      ],
      "metadata": {
        "colab": {
          "base_uri": "https://localhost:8080/",
          "height": 265
        },
        "id": "PRKhJVMgmRIV",
        "outputId": "37948e51-1f69-4e99-9a94-6843f4a575ed"
      },
      "execution_count": 16,
      "outputs": [
        {
          "output_type": "display_data",
          "data": {
            "image/png": "[encoded data removed]",
            "text/plain": [
              "<Figure size 432x288 with 1 Axes>"
            ]
          },
          "metadata": {
            "needs_background": "light"
          }
        }
      ]
    },
    {
      "cell_type": "code",
      "source": [
        "target"
      ],
      "metadata": {
        "colab": {
          "base_uri": "https://localhost:8080/"
        },
        "id": "52yzpsOsmlOR",
        "outputId": "7c6e70d1-78c9-4505-b626-ff2e0212c0c4"
      },
      "execution_count": 17,
      "outputs": [
        {
          "output_type": "execute_result",
          "data": {
            "text/plain": [
              "array([2, 2, 2, 2, 2, 0, 2, 2, 2, 2, 2, 2, 2, 2, 2, 2, 2, 2, 0, 2, 2, 2,\n",
              "       2, 2, 2, 2, 2, 2, 2, 2, 2, 2, 2, 2, 2, 2, 2, 2, 2, 2, 2, 2, 0, 2,\n",
              "       0, 2, 2, 2, 2, 2, 2, 2, 0, 2, 2, 2, 2, 2, 2, 2, 2, 2, 0, 0, 2, 2,\n",
              "       2, 2, 2, 2, 2, 2, 0, 2, 2, 2, 2, 2, 2, 2, 2, 2, 2, 2, 2, 2, 2, 2,\n",
              "       2, 2, 2, 0, 2, 2, 2, 2, 2, 2, 2, 2, 0, 0, 0, 0, 0, 0, 0, 0, 0, 0,\n",
              "       0, 0, 0, 0, 0, 0, 0, 0, 0, 0, 0, 0, 0, 0, 0, 0, 0, 0, 0, 0, 0, 0,\n",
              "       0, 0, 0, 0, 0, 0, 0, 0, 0, 0, 0, 0, 0, 0, 0, 0, 0, 0, 0, 0, 0, 0,\n",
              "       0, 0, 0, 0, 0, 0, 0, 0, 0, 0, 0, 0, 0, 0, 0, 0, 0, 0, 0, 0, 0, 0,\n",
              "       0, 0, 0, 0, 0, 0, 0, 0, 0, 0, 0, 0, 0, 0, 0, 0, 0, 0, 0, 0, 0, 0,\n",
              "       0, 0, 1, 1, 1, 1, 1, 1, 1, 1, 1, 1, 1, 1, 1, 1, 1, 1, 1, 1, 1, 1,\n",
              "       1, 1, 1, 1, 1, 1, 1, 1, 1, 1, 1, 0, 1, 1, 1, 1, 1, 1, 1, 1, 1, 1,\n",
              "       1, 1, 1, 1, 1, 1, 1, 1, 1, 1, 1, 1, 1, 1, 1, 1, 1, 1, 1, 1, 1, 1,\n",
              "       1, 1, 1, 1, 1, 1, 1, 1, 1, 0, 1, 1, 1, 1, 1, 1, 1, 1, 1, 1, 1, 1,\n",
              "       1, 1, 1, 1, 1, 1, 1, 1, 1, 1, 1, 1, 1, 1], dtype=int32)"
            ]
          },
          "metadata": {},
          "execution_count": 17
        }
      ]
    },
    {
      "cell_type": "code",
      "source": [
        "from sklearn.decomposition import PCA\n",
        "\n",
        "pca = PCA(n_components=0.9) #개수\n",
        "pca.fit(fruits2)"
      ],
      "metadata": {
        "colab": {
          "base_uri": "https://localhost:8080/"
        },
        "id": "8rcZZwg8mpAW",
        "outputId": "dd52d0e5-7440-4a07-954f-9a0d82eba190"
      },
      "execution_count": 18,
      "outputs": [
        {
          "output_type": "execute_result",
          "data": {
            "text/plain": [
              "PCA(n_components=0.9)"
            ]
          },
          "metadata": {},
          "execution_count": 18
        }
      ]
    },
    {
      "cell_type": "code",
      "source": [
        "len(pca.explained_variance_ratio_)"
      ],
      "metadata": {
        "colab": {
          "base_uri": "https://localhost:8080/"
        },
        "id": "-uEXe8gAm1Kk",
        "outputId": "99e7fc86-778f-4042-d9a7-4c1d47fc21b6"
      },
      "execution_count": 19,
      "outputs": [
        {
          "output_type": "execute_result",
          "data": {
            "text/plain": [
              "39"
            ]
          },
          "metadata": {},
          "execution_count": 19
        }
      ]
    },
    {
      "cell_type": "code",
      "source": [
        "plt.plot(pca.explained_variance_ratio_)"
      ],
      "metadata": {
        "colab": {
          "base_uri": "https://localhost:8080/",
          "height": 282
        },
        "id": "0aWIkL14m4Yk",
        "outputId": "16cba68d-a15e-4797-b396-4526e870e61b"
      },
      "execution_count": 20,
      "outputs": [
        {
          "output_type": "execute_result",
          "data": {
            "text/plain": [
              "[<matplotlib.lines.Line2D at 0x7efca77297d0>]"
            ]
          },
          "metadata": {},
          "execution_count": 20
        },
        {
          "output_type": "display_data",
          "data": {
            "image/png": "[encoded data removed]",
            "text/plain": [
              "<Figure size 432x288 with 1 Axes>"
            ]
          },
          "metadata": {
            "needs_background": "light"
          }
        }
      ]
    },
    {
      "cell_type": "code",
      "source": [
        "from sklearn import datasets\n",
        "from sklearn.model_selection import train_test_split\n",
        "from sklearn.feature_extraction.text import TfidfVectorizer\n",
        "from sklearn.naive_bayes import MultinomialNB"
      ],
      "metadata": {
        "id": "SQyCkvtGocsY"
      },
      "execution_count": 21,
      "outputs": []
    },
    {
      "cell_type": "code",
      "source": [
        "news = datasets.fetch_20newsgroups()    # 뉴스기사 // 20개(IT, 스포츠, 정치...)\n",
        "data, target = news.data, news.target"
      ],
      "metadata": {
        "id": "F_HHjJzsovpO"
      },
      "execution_count": 22,
      "outputs": []
    },
    {
      "cell_type": "code",
      "source": [
        "data[0]"
      ],
      "metadata": {
        "colab": {
          "base_uri": "https://localhost:8080/",
          "height": 105
        },
        "id": "6OcRpRjlo4w-",
        "outputId": "83319b11-8b62-4a12-bd58-9e3fe49b0692"
      },
      "execution_count": 23,
      "outputs": [
        {
          "output_type": "execute_result",
          "data": {
            "application/vnd.google.colaboratory.intrinsic+json": {
              "type": "string"
            },
            "text/plain": [
              "\"From: lerxst@wam.umd.edu (where's my thing)\\nSubject: WHAT car is this!?\\nNntp-Posting-Host: rac3.wam.umd.edu\\nOrganization: University of Maryland, College Park\\nLines: 15\\n\\n I was wondering if anyone out there could enlighten me on this car I saw\\nthe other day. It was a 2-door sports car, looked to be from the late 60s/\\nearly 70s. It was called a Bricklin. The doors were really small. In addition,\\nthe front bumper was separate from the rest of the body. This is \\nall I know. If anyone can tellme a model name, engine specs, years\\nof production, where this car is made, history, or whatever info you\\nhave on this funky looking car, please e-mail.\\n\\nThanks,\\n- IL\\n   ---- brought to you by your neighborhood Lerxst ----\\n\\n\\n\\n\\n\""
            ]
          },
          "metadata": {},
          "execution_count": 23
        }
      ]
    },
    {
      "cell_type": "code",
      "source": [
        "target"
      ],
      "metadata": {
        "colab": {
          "base_uri": "https://localhost:8080/"
        },
        "id": "a8xTONRnpBEQ",
        "outputId": "722b728a-6b6f-4384-aadc-068275117968"
      },
      "execution_count": 24,
      "outputs": [
        {
          "output_type": "execute_result",
          "data": {
            "text/plain": [
              "array([7, 4, 4, ..., 3, 1, 8])"
            ]
          },
          "metadata": {},
          "execution_count": 24
        }
      ]
    },
    {
      "cell_type": "code",
      "source": [
        "train_input, test_input, train_target, test_target = train_test_split(data, target)\n",
        "\n",
        "vectorizer = TfidfVectorizer()\n",
        "\n",
        "train_scaled = vectorizer.fit_transform(train_input)\n",
        "test_scaled = vectorizer.transform(test_input)"
      ],
      "metadata": {
        "id": "KxRFn8GrpHzK"
      },
      "execution_count": 25,
      "outputs": []
    },
    {
      "cell_type": "code",
      "source": [
        "train_scaled"
      ],
      "metadata": {
        "colab": {
          "base_uri": "https://localhost:8080/"
        },
        "id": "E2P7QHlVpZF5",
        "outputId": "b59dde69-effe-4cc3-fe41-985759ca7308"
      },
      "execution_count": 26,
      "outputs": [
        {
          "output_type": "execute_result",
          "data": {
            "text/plain": [
              "<8485x104945 sparse matrix of type '<class 'numpy.float64'>'\n",
              "\twith 1337992 stored elements in Compressed Sparse Row format>"
            ]
          },
          "metadata": {},
          "execution_count": 26
        }
      ]
    },
    {
      "cell_type": "code",
      "source": [
        "model = MultinomialNB(alpha=0.01)\n",
        "model.fit(train_scaled, train_target)"
      ],
      "metadata": {
        "colab": {
          "base_uri": "https://localhost:8080/"
        },
        "id": "x2YFGoL0pc3I",
        "outputId": "eb9df713-3076-49c7-c871-c3c846147239"
      },
      "execution_count": 27,
      "outputs": [
        {
          "output_type": "execute_result",
          "data": {
            "text/plain": [
              "MultinomialNB(alpha=0.01)"
            ]
          },
          "metadata": {},
          "execution_count": 27
        }
      ]
    },
    {
      "cell_type": "code",
      "source": [
        "model.score(test_scaled, test_target)"
      ],
      "metadata": {
        "colab": {
          "base_uri": "https://localhost:8080/"
        },
        "id": "_BYxOammpkNY",
        "outputId": "63b35e47-8239-4510-9b64-2485d57565bd"
      },
      "execution_count": 28,
      "outputs": [
        {
          "output_type": "execute_result",
          "data": {
            "text/plain": [
              "0.9003181336161188"
            ]
          },
          "metadata": {},
          "execution_count": 28
        }
      ]
    },
    {
      "cell_type": "code",
      "source": [
        "# 감성 사전\n",
        "\n",
        "import pandas as pd\n",
        "\n",
        "pd.read_csv('knu_sentiment_lexicon.csv')"
      ],
      "metadata": {
        "colab": {
          "base_uri": "https://localhost:8080/",
          "height": 424
        },
        "id": "vjJ5tzr7psqx",
        "outputId": "bd34ee22-3ca6-416c-e8ea-f4f341dac0a5"
      },
      "execution_count": 29,
      "outputs": [
        {
          "output_type": "execute_result",
          "data": {
            "text/html": [
              "\n",
              "  <div id=\"df-541c49a4-d7a3-4d8b-a300-adaccacab897\">\n",
              "    <div class=\"colab-df-container\">\n",
              "      <div>\n",
              "<style scoped>\n",
              "    .dataframe tbody tr th:only-of-type {\n",
              "        vertical-align: middle;\n",
              "    }\n",
              "\n",
              "    .dataframe tbody tr th {\n",
              "        vertical-align: top;\n",
              "    }\n",
              "\n",
              "    .dataframe thead th {\n",
              "        text-align: right;\n",
              "    }\n",
              "</style>\n",
              "<table border=\"1\" class=\"dataframe\">\n",
              "  <thead>\n",
              "    <tr style=\"text-align: right;\">\n",
              "      <th></th>\n",
              "      <th>word</th>\n",
              "      <th>polarity</th>\n",
              "    </tr>\n",
              "  </thead>\n",
              "  <tbody>\n",
              "    <tr>\n",
              "      <th>0</th>\n",
              "      <td>ㅡㅡ</td>\n",
              "      <td>-1</td>\n",
              "    </tr>\n",
              "    <tr>\n",
              "      <th>1</th>\n",
              "      <td>ㅠㅠ</td>\n",
              "      <td>-1</td>\n",
              "    </tr>\n",
              "    <tr>\n",
              "      <th>2</th>\n",
              "      <td>ㅠ_ㅠ</td>\n",
              "      <td>-1</td>\n",
              "    </tr>\n",
              "    <tr>\n",
              "      <th>3</th>\n",
              "      <td>ㅠ</td>\n",
              "      <td>-1</td>\n",
              "    </tr>\n",
              "    <tr>\n",
              "      <th>4</th>\n",
              "      <td>ㅜㅡ</td>\n",
              "      <td>-1</td>\n",
              "    </tr>\n",
              "    <tr>\n",
              "      <th>...</th>\n",
              "      <td>...</td>\n",
              "      <td>...</td>\n",
              "    </tr>\n",
              "    <tr>\n",
              "      <th>14849</th>\n",
              "      <td>(^-^)</td>\n",
              "      <td>1</td>\n",
              "    </tr>\n",
              "    <tr>\n",
              "      <th>14850</th>\n",
              "      <td>(;_;)</td>\n",
              "      <td>-1</td>\n",
              "    </tr>\n",
              "    <tr>\n",
              "      <th>14851</th>\n",
              "      <td>(-_-)</td>\n",
              "      <td>-1</td>\n",
              "    </tr>\n",
              "    <tr>\n",
              "      <th>14852</th>\n",
              "      <td>(-;</td>\n",
              "      <td>1</td>\n",
              "    </tr>\n",
              "    <tr>\n",
              "      <th>14853</th>\n",
              "      <td>-_-^</td>\n",
              "      <td>-1</td>\n",
              "    </tr>\n",
              "  </tbody>\n",
              "</table>\n",
              "<p>14854 rows × 2 columns</p>\n",
              "</div>\n",
              "      <button class=\"colab-df-convert\" onclick=\"convertToInteractive('df-541c49a4-d7a3-4d8b-a300-adaccacab897')\"\n",
              "              title=\"Convert this dataframe to an interactive table.\"\n",
              "              style=\"display:none;\">\n",
              "        \n",
              "  <svg xmlns=\"http://www.w3.org/2000/svg\" height=\"24px\"viewBox=\"0 0 24 24\"\n",
              "       width=\"24px\">\n",
              "    <path d=\"M0 0h24v24H0V0z\" fill=\"none\"/>\n",
              "    <path d=\"M18.56 5.44l.94 2.06.94-2.06 2.06-.94-2.06-.94-.94-2.06-.94 2.06-2.06.94zm-11 1L8.5 8.5l.94-2.06 2.06-.94-2.06-.94L8.5 2.5l-.94 2.06-2.06.94zm10 10l.94 2.06.94-2.06 2.06-.94-2.06-.94-.94-2.06-.94 2.06-2.06.94z\"/><path d=\"M17.41 7.96l-1.37-1.37c-.4-.4-.92-.59-1.43-.59-.52 0-1.04.2-1.43.59L10.3 9.45l-7.72 7.72c-.78.78-.78 2.05 0 2.83L4 21.41c.39.39.9.59 1.41.59.51 0 1.02-.2 1.41-.59l7.78-7.78 2.81-2.81c.8-.78.8-2.07 0-2.86zM5.41 20L4 18.59l7.72-7.72 1.47 1.35L5.41 20z\"/>\n",
              "  </svg>\n",
              "      </button>\n",
              "      \n",
              "  <style>\n",
              "    .colab-df-container {\n",
              "      display:flex;\n",
              "      flex-wrap:wrap;\n",
              "      gap: 12px;\n",
              "    }\n",
              "\n",
              "    .colab-df-convert {\n",
              "      background-color: #E8F0FE;\n",
              "      border: none;\n",
              "      border-radius: 50%;\n",
              "      cursor: pointer;\n",
              "      display: none;\n",
              "      fill: #1967D2;\n",
              "      height: 32px;\n",
              "      padding: 0 0 0 0;\n",
              "      width: 32px;\n",
              "    }\n",
              "\n",
              "    .colab-df-convert:hover {\n",
              "      background-color: #E2EBFA;\n",
              "      box-shadow: 0px 1px 2px rgba(60, 64, 67, 0.3), 0px 1px 3px 1px rgba(60, 64, 67, 0.15);\n",
              "      fill: #174EA6;\n",
              "    }\n",
              "\n",
              "    [theme=dark] .colab-df-convert {\n",
              "      background-color: #3B4455;\n",
              "      fill: #D2E3FC;\n",
              "    }\n",
              "\n",
              "    [theme=dark] .colab-df-convert:hover {\n",
              "      background-color: #434B5C;\n",
              "      box-shadow: 0px 1px 3px 1px rgba(0, 0, 0, 0.15);\n",
              "      filter: drop-shadow(0px 1px 2px rgba(0, 0, 0, 0.3));\n",
              "      fill: #FFFFFF;\n",
              "    }\n",
              "  </style>\n",
              "\n",
              "      <script>\n",
              "        const buttonEl =\n",
              "          document.querySelector('#df-541c49a4-d7a3-4d8b-a300-adaccacab897 button.colab-df-convert');\n",
              "        buttonEl.style.display =\n",
              "          google.colab.kernel.accessAllowed ? 'block' : 'none';\n",
              "\n",
              "        async function convertToInteractive(key) {\n",
              "          const element = document.querySelector('#df-541c49a4-d7a3-4d8b-a300-adaccacab897');\n",
              "          const dataTable =\n",
              "            await google.colab.kernel.invokeFunction('convertToInteractive',\n",
              "                                                     [key], {});\n",
              "          if (!dataTable) return;\n",
              "\n",
              "          const docLinkHtml = 'Like what you see? Visit the ' +\n",
              "            '<a target=\"_blank\" href=https://colab.research.google.com/notebooks/data_table.ipynb>data table notebook</a>'\n",
              "            + ' to learn more about interactive tables.';\n",
              "          element.innerHTML = '';\n",
              "          dataTable['output_type'] = 'display_data';\n",
              "          await google.colab.output.renderOutput(dataTable, element);\n",
              "          const docLink = document.createElement('div');\n",
              "          docLink.innerHTML = docLinkHtml;\n",
              "          element.appendChild(docLink);\n",
              "        }\n",
              "      </script>\n",
              "    </div>\n",
              "  </div>\n",
              "  "
            ],
            "text/plain": [
              "        word  polarity\n",
              "0         ㅡㅡ        -1\n",
              "1         ㅠㅠ        -1\n",
              "2        ㅠ_ㅠ        -1\n",
              "3          ㅠ        -1\n",
              "4         ㅜㅡ        -1\n",
              "...      ...       ...\n",
              "14849  (^-^)         1\n",
              "14850  (;_;)        -1\n",
              "14851  (-_-)        -1\n",
              "14852    (-;         1\n",
              "14853   -_-^        -1\n",
              "\n",
              "[14854 rows x 2 columns]"
            ]
          },
          "metadata": {},
          "execution_count": 29
        }
      ]
    },
    {
      "cell_type": "code",
      "source": [
        "from sklearn import datasets\n",
        "from sklearn.model_selection import train_test_split\n",
        "from sklearn.feature_extraction.text import TfidfVectorizer\n",
        "from sklearn.naive_bayes import MultinomialNB\n",
        "\n",
        "news = datasets.fetch_20newsgroups()    # 뉴스기사 // 20개(IT, 스포츠, 정치...)\n",
        "data, target = news.data, news.target\n",
        "\n",
        "train_input, test_input, train_target, test_target = train_test_split(data, target)\n",
        "\n",
        "vectorizer = TfidfVectorizer()\n",
        "\n",
        "train_scaled = vectorizer.fit_transform(train_input)\n",
        "test_scaled = vectorizer.transform(test_input)\n",
        "\n",
        "model = MultinomialNB(alpha=0.01)\n",
        "model.fit(train_scaled, train_target)"
      ],
      "metadata": {
        "colab": {
          "base_uri": "https://localhost:8080/"
        },
        "id": "WWsmiNaip694",
        "outputId": "02b18c23-27ec-443b-a739-b0929ba125f8"
      },
      "execution_count": 31,
      "outputs": [
        {
          "output_type": "execute_result",
          "data": {
            "text/plain": [
              "MultinomialNB(alpha=0.01)"
            ]
          },
          "metadata": {},
          "execution_count": 31
        }
      ]
    },
    {
      "cell_type": "code",
      "source": [
        "model.score(test_scaled, test_target)"
      ],
      "metadata": {
        "colab": {
          "base_uri": "https://localhost:8080/"
        },
        "id": "bd01oL4jqV1P",
        "outputId": "79c2e47d-ca76-4818-d172-05a8aa73b223"
      },
      "execution_count": 32,
      "outputs": [
        {
          "output_type": "execute_result",
          "data": {
            "text/plain": [
              "0.9095086603039944"
            ]
          },
          "metadata": {},
          "execution_count": 32
        }
      ]
    }
  ]
}