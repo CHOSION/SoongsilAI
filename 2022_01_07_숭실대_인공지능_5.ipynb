{
  "nbformat": 4,
  "nbformat_minor": 0,
  "metadata": {
    "colab": {
      "name": "2022-01-07-숭실대-인공지능-5.ipynb",
      "provenance": [],
      "collapsed_sections": []
    },
    "kernelspec": {
      "name": "python3",
      "display_name": "Python 3"
    },
    "language_info": {
      "name": "python"
    }
  },
  "cells": [
    {
      "cell_type": "markdown",
      "source": [
        "**5 - 1.**"
      ],
      "metadata": {
        "id": "siKMRtRsTt7W"
      }
    },
    {
      "cell_type": "code",
      "execution_count": 2,
      "metadata": {
        "id": "NPg5ZX7_6Wz8",
        "colab": {
          "base_uri": "https://localhost:8080/"
        },
        "outputId": "0babdab7-68db-4b4e-9152-37d0b5f26ff6"
      },
      "outputs": [
        {
          "output_type": "stream",
          "name": "stdout",
          "text": [
            "Downloading data from https://storage.googleapis.com/tensorflow/tf-keras-datasets/train-labels-idx1-ubyte.gz\n",
            "32768/29515 [=================================] - 0s 0us/step\n",
            "40960/29515 [=========================================] - 0s 0us/step\n",
            "Downloading data from https://storage.googleapis.com/tensorflow/tf-keras-datasets/train-images-idx3-ubyte.gz\n",
            "26427392/26421880 [==============================] - 0s 0us/step\n",
            "26435584/26421880 [==============================] - 0s 0us/step\n",
            "Downloading data from https://storage.googleapis.com/tensorflow/tf-keras-datasets/t10k-labels-idx1-ubyte.gz\n",
            "16384/5148 [===============================================================================================] - 0s 0us/step\n",
            "Downloading data from https://storage.googleapis.com/tensorflow/tf-keras-datasets/t10k-images-idx3-ubyte.gz\n",
            "4423680/4422102 [==============================] - 0s 0us/step\n",
            "4431872/4422102 [==============================] - 0s 0us/step\n"
          ]
        }
      ],
      "source": [
        "# tensorflow : 구글에서 만든 인공지능 도구\n",
        "\n",
        "from tensorflow import keras\n",
        "\n",
        "(train_input, train_target),(test_input, test_target) = keras.datasets.fashion_mnist.load_data()"
      ]
    },
    {
      "cell_type": "code",
      "source": [
        "train_input.shape"
      ],
      "metadata": {
        "colab": {
          "base_uri": "https://localhost:8080/"
        },
        "id": "QvdsJNSW7HsC",
        "outputId": "fbd6d0e9-8526-4243-f478-c1785ed9f5e4"
      },
      "execution_count": 3,
      "outputs": [
        {
          "output_type": "execute_result",
          "data": {
            "text/plain": [
              "(60000, 28, 28)"
            ]
          },
          "metadata": {},
          "execution_count": 3
        }
      ]
    },
    {
      "cell_type": "code",
      "source": [
        "test_input.shape"
      ],
      "metadata": {
        "colab": {
          "base_uri": "https://localhost:8080/"
        },
        "id": "ef6_s1zm7bVy",
        "outputId": "f1c52521-c3cb-4454-aadd-729b26a43eed"
      },
      "execution_count": 4,
      "outputs": [
        {
          "output_type": "execute_result",
          "data": {
            "text/plain": [
              "(10000, 28, 28)"
            ]
          },
          "metadata": {},
          "execution_count": 4
        }
      ]
    },
    {
      "cell_type": "code",
      "source": [
        "train_target\n",
        "\n",
        "'''\n",
        "0: 티셔츠\n",
        "1: 바지\n",
        "2: 스웨터\n",
        "3: 드레스\n",
        "4: 코트\n",
        "5: 샌달\n",
        "6: 셔츠\n",
        "7: 스니커즈\n",
        "8: 가방\n",
        "9: 앵클부츠\n",
        "'''"
      ],
      "metadata": {
        "colab": {
          "base_uri": "https://localhost:8080/",
          "height": 35
        },
        "id": "uF0pYGqk7eFk",
        "outputId": "53c863b5-2880-41c6-d343-23a85f0aa1ba"
      },
      "execution_count": 5,
      "outputs": [
        {
          "output_type": "execute_result",
          "data": {
            "application/vnd.google.colaboratory.intrinsic+json": {
              "type": "string"
            },
            "text/plain": [
              "'\\n0: 티셔츠\\n1: 바지\\n2: 스웨터\\n3: 드레스\\n4: 코트\\n5: 샌달\\n6: 셔츠\\n7: 스니커즈\\n8: 가방\\n9: 앵클부츠\\n'"
            ]
          },
          "metadata": {},
          "execution_count": 5
        }
      ]
    },
    {
      "cell_type": "code",
      "source": [
        "train_input[0]"
      ],
      "metadata": {
        "colab": {
          "base_uri": "https://localhost:8080/"
        },
        "id": "OSStG4Mm7kEV",
        "outputId": "2fe2d17b-ea82-4d96-f3ab-475066fb0da8"
      },
      "execution_count": 6,
      "outputs": [
        {
          "output_type": "execute_result",
          "data": {
            "text/plain": [
              "array([[  0,   0,   0,   0,   0,   0,   0,   0,   0,   0,   0,   0,   0,\n",
              "          0,   0,   0,   0,   0,   0,   0,   0,   0,   0,   0,   0,   0,\n",
              "          0,   0],\n",
              "       [  0,   0,   0,   0,   0,   0,   0,   0,   0,   0,   0,   0,   0,\n",
              "          0,   0,   0,   0,   0,   0,   0,   0,   0,   0,   0,   0,   0,\n",
              "          0,   0],\n",
              "       [  0,   0,   0,   0,   0,   0,   0,   0,   0,   0,   0,   0,   0,\n",
              "          0,   0,   0,   0,   0,   0,   0,   0,   0,   0,   0,   0,   0,\n",
              "          0,   0],\n",
              "       [  0,   0,   0,   0,   0,   0,   0,   0,   0,   0,   0,   0,   1,\n",
              "          0,   0,  13,  73,   0,   0,   1,   4,   0,   0,   0,   0,   1,\n",
              "          1,   0],\n",
              "       [  0,   0,   0,   0,   0,   0,   0,   0,   0,   0,   0,   0,   3,\n",
              "          0,  36, 136, 127,  62,  54,   0,   0,   0,   1,   3,   4,   0,\n",
              "          0,   3],\n",
              "       [  0,   0,   0,   0,   0,   0,   0,   0,   0,   0,   0,   0,   6,\n",
              "          0, 102, 204, 176, 134, 144, 123,  23,   0,   0,   0,   0,  12,\n",
              "         10,   0],\n",
              "       [  0,   0,   0,   0,   0,   0,   0,   0,   0,   0,   0,   0,   0,\n",
              "          0, 155, 236, 207, 178, 107, 156, 161, 109,  64,  23,  77, 130,\n",
              "         72,  15],\n",
              "       [  0,   0,   0,   0,   0,   0,   0,   0,   0,   0,   0,   1,   0,\n",
              "         69, 207, 223, 218, 216, 216, 163, 127, 121, 122, 146, 141,  88,\n",
              "        172,  66],\n",
              "       [  0,   0,   0,   0,   0,   0,   0,   0,   0,   1,   1,   1,   0,\n",
              "        200, 232, 232, 233, 229, 223, 223, 215, 213, 164, 127, 123, 196,\n",
              "        229,   0],\n",
              "       [  0,   0,   0,   0,   0,   0,   0,   0,   0,   0,   0,   0,   0,\n",
              "        183, 225, 216, 223, 228, 235, 227, 224, 222, 224, 221, 223, 245,\n",
              "        173,   0],\n",
              "       [  0,   0,   0,   0,   0,   0,   0,   0,   0,   0,   0,   0,   0,\n",
              "        193, 228, 218, 213, 198, 180, 212, 210, 211, 213, 223, 220, 243,\n",
              "        202,   0],\n",
              "       [  0,   0,   0,   0,   0,   0,   0,   0,   0,   1,   3,   0,  12,\n",
              "        219, 220, 212, 218, 192, 169, 227, 208, 218, 224, 212, 226, 197,\n",
              "        209,  52],\n",
              "       [  0,   0,   0,   0,   0,   0,   0,   0,   0,   0,   6,   0,  99,\n",
              "        244, 222, 220, 218, 203, 198, 221, 215, 213, 222, 220, 245, 119,\n",
              "        167,  56],\n",
              "       [  0,   0,   0,   0,   0,   0,   0,   0,   0,   4,   0,   0,  55,\n",
              "        236, 228, 230, 228, 240, 232, 213, 218, 223, 234, 217, 217, 209,\n",
              "         92,   0],\n",
              "       [  0,   0,   1,   4,   6,   7,   2,   0,   0,   0,   0,   0, 237,\n",
              "        226, 217, 223, 222, 219, 222, 221, 216, 223, 229, 215, 218, 255,\n",
              "         77,   0],\n",
              "       [  0,   3,   0,   0,   0,   0,   0,   0,   0,  62, 145, 204, 228,\n",
              "        207, 213, 221, 218, 208, 211, 218, 224, 223, 219, 215, 224, 244,\n",
              "        159,   0],\n",
              "       [  0,   0,   0,   0,  18,  44,  82, 107, 189, 228, 220, 222, 217,\n",
              "        226, 200, 205, 211, 230, 224, 234, 176, 188, 250, 248, 233, 238,\n",
              "        215,   0],\n",
              "       [  0,  57, 187, 208, 224, 221, 224, 208, 204, 214, 208, 209, 200,\n",
              "        159, 245, 193, 206, 223, 255, 255, 221, 234, 221, 211, 220, 232,\n",
              "        246,   0],\n",
              "       [  3, 202, 228, 224, 221, 211, 211, 214, 205, 205, 205, 220, 240,\n",
              "         80, 150, 255, 229, 221, 188, 154, 191, 210, 204, 209, 222, 228,\n",
              "        225,   0],\n",
              "       [ 98, 233, 198, 210, 222, 229, 229, 234, 249, 220, 194, 215, 217,\n",
              "        241,  65,  73, 106, 117, 168, 219, 221, 215, 217, 223, 223, 224,\n",
              "        229,  29],\n",
              "       [ 75, 204, 212, 204, 193, 205, 211, 225, 216, 185, 197, 206, 198,\n",
              "        213, 240, 195, 227, 245, 239, 223, 218, 212, 209, 222, 220, 221,\n",
              "        230,  67],\n",
              "       [ 48, 203, 183, 194, 213, 197, 185, 190, 194, 192, 202, 214, 219,\n",
              "        221, 220, 236, 225, 216, 199, 206, 186, 181, 177, 172, 181, 205,\n",
              "        206, 115],\n",
              "       [  0, 122, 219, 193, 179, 171, 183, 196, 204, 210, 213, 207, 211,\n",
              "        210, 200, 196, 194, 191, 195, 191, 198, 192, 176, 156, 167, 177,\n",
              "        210,  92],\n",
              "       [  0,   0,  74, 189, 212, 191, 175, 172, 175, 181, 185, 188, 189,\n",
              "        188, 193, 198, 204, 209, 210, 210, 211, 188, 188, 194, 192, 216,\n",
              "        170,   0],\n",
              "       [  2,   0,   0,   0,  66, 200, 222, 237, 239, 242, 246, 243, 244,\n",
              "        221, 220, 193, 191, 179, 182, 182, 181, 176, 166, 168,  99,  58,\n",
              "          0,   0],\n",
              "       [  0,   0,   0,   0,   0,   0,   0,  40,  61,  44,  72,  41,  35,\n",
              "          0,   0,   0,   0,   0,   0,   0,   0,   0,   0,   0,   0,   0,\n",
              "          0,   0],\n",
              "       [  0,   0,   0,   0,   0,   0,   0,   0,   0,   0,   0,   0,   0,\n",
              "          0,   0,   0,   0,   0,   0,   0,   0,   0,   0,   0,   0,   0,\n",
              "          0,   0],\n",
              "       [  0,   0,   0,   0,   0,   0,   0,   0,   0,   0,   0,   0,   0,\n",
              "          0,   0,   0,   0,   0,   0,   0,   0,   0,   0,   0,   0,   0,\n",
              "          0,   0]], dtype=uint8)"
            ]
          },
          "metadata": {},
          "execution_count": 6
        }
      ]
    },
    {
      "cell_type": "code",
      "source": [
        "import numpy as np\n",
        "\n",
        "np.unique(train_target, return_counts=True)"
      ],
      "metadata": {
        "colab": {
          "base_uri": "https://localhost:8080/"
        },
        "id": "cQyG67wI70e7",
        "outputId": "6e83c07e-d246-44cf-d96e-2f009001d907"
      },
      "execution_count": 7,
      "outputs": [
        {
          "output_type": "execute_result",
          "data": {
            "text/plain": [
              "(array([0, 1, 2, 3, 4, 5, 6, 7, 8, 9], dtype=uint8),\n",
              " array([6000, 6000, 6000, 6000, 6000, 6000, 6000, 6000, 6000, 6000]))"
            ]
          },
          "metadata": {},
          "execution_count": 7
        }
      ]
    },
    {
      "cell_type": "code",
      "source": [
        "train_scaled = train_input.reshape(-1,784)/255\n",
        "test_scaled = test_input.reshape(-1,784)/255"
      ],
      "metadata": {
        "id": "1bOu3YJj7_f7"
      },
      "execution_count": 8,
      "outputs": []
    },
    {
      "cell_type": "code",
      "source": [
        "from sklearn.model_selection import train_test_split\n",
        "\n",
        "train_scaled, val_scaled, train_target, val_target = train_test_split(train_scaled, train_target, test_size=0.2)"
      ],
      "metadata": {
        "id": "9W1mjkbpIJYb"
      },
      "execution_count": 9,
      "outputs": []
    },
    {
      "cell_type": "code",
      "source": [
        "train_scaled.shape"
      ],
      "metadata": {
        "colab": {
          "base_uri": "https://localhost:8080/"
        },
        "id": "uD0vivWcIWQC",
        "outputId": "a993b07d-4381-4b96-fa5f-238d1c93d57b"
      },
      "execution_count": 10,
      "outputs": [
        {
          "output_type": "execute_result",
          "data": {
            "text/plain": [
              "(48000, 784)"
            ]
          },
          "metadata": {},
          "execution_count": 10
        }
      ]
    },
    {
      "cell_type": "code",
      "source": [
        "val_scaled.shape"
      ],
      "metadata": {
        "colab": {
          "base_uri": "https://localhost:8080/"
        },
        "id": "JotPusQqIY_0",
        "outputId": "4ef56082-c480-4fe4-e751-16b8269cea8d"
      },
      "execution_count": 11,
      "outputs": [
        {
          "output_type": "execute_result",
          "data": {
            "text/plain": [
              "(12000, 784)"
            ]
          },
          "metadata": {},
          "execution_count": 11
        }
      ]
    },
    {
      "cell_type": "code",
      "source": [
        "test_scaled.shape"
      ],
      "metadata": {
        "colab": {
          "base_uri": "https://localhost:8080/"
        },
        "id": "K89b2STjIicw",
        "outputId": "cf1d17fa-55bf-4cfb-e867-6c03bbbb6c09"
      },
      "execution_count": 12,
      "outputs": [
        {
          "output_type": "execute_result",
          "data": {
            "text/plain": [
              "(10000, 784)"
            ]
          },
          "metadata": {},
          "execution_count": 12
        }
      ]
    },
    {
      "cell_type": "code",
      "source": [
        "# 비정형 데이터 : 딥러닝\n",
        "# 1. 일반적인 머신러닝 (0.8479)\n",
        "# 2. 인공신경망 (0.8688)\n",
        "# 3. 인공신경망(은닉층):딥러닝\n",
        "# 4. CNN을 사용했을 때 정확도"
      ],
      "metadata": {
        "id": "hCo-aibL9cs8"
      },
      "execution_count": 13,
      "outputs": []
    },
    {
      "cell_type": "code",
      "source": [
        "# 머신러닝 모델 실습\n",
        "\n",
        "from sklearn.neighbors import KNeighborsClassifier\n",
        "\n",
        "model = KNeighborsClassifier()\n",
        "model.fit(train_scaled, train_target)\n",
        "\n",
        "model.score(test_scaled, test_target)"
      ],
      "metadata": {
        "colab": {
          "base_uri": "https://localhost:8080/"
        },
        "id": "uJsVBnB39xaK",
        "outputId": "01ad8029-0dc2-4d82-c360-d5dbf39901d9"
      },
      "execution_count": 14,
      "outputs": [
        {
          "output_type": "execute_result",
          "data": {
            "text/plain": [
              "0.8479"
            ]
          },
          "metadata": {},
          "execution_count": 14
        }
      ]
    },
    {
      "cell_type": "code",
      "source": [
        "import tensorflow as tf\n",
        "from sklearn.model_selection import train_test_split\n",
        "\n",
        "dense1 = keras.layers.Dense(100, activation='relu', input_shape=(784,))\n",
        "drop1 = keras.layers.Dropout(0.3)\n",
        "dense2 = keras.layers.Dense(10, activation='softmax')\n",
        "\n",
        "# 오차 함수(다중 분류) : categorical_crossentropy\n",
        "# 오차 함수(이중 분류) : binary_crossentropy\n",
        "\n",
        "checkpoint = keras.callbacks.ModelCheckpoint('best.h5') # 가장 검증데이터 오차가 적은 모델 저장하는 함수\n",
        "early_stopping = keras.callbacks.EarlyStopping(patience=5, restore_best_weights=True) # 에폭 5회 시도해도 좋아지지 않으면 학습 종료\n",
        "\n",
        "model = keras.Sequential([dense1, drop1, dense2]) # 도화지\n",
        "model.compile(loss = 'sparse_categorical_crossentropy', metrics='accuracy', optimizer='adam')\n",
        "\n",
        "history = model.fit(train_scaled, train_target, epochs=100, validation_data=(val_scaled,val_target), callbacks=[checkpoint, early_stopping], batch_size=64) #2**n"
      ],
      "metadata": {
        "colab": {
          "base_uri": "https://localhost:8080/"
        },
        "id": "wMwDMM5kAj7L",
        "outputId": "7f693db4-9de5-4821-8345-bc7da849ee56"
      },
      "execution_count": 15,
      "outputs": [
        {
          "output_type": "stream",
          "name": "stdout",
          "text": [
            "Epoch 1/100\n",
            "750/750 [==============================] - 3s 3ms/step - loss: 0.6258 - accuracy: 0.7815 - val_loss: 0.4492 - val_accuracy: 0.8413\n",
            "Epoch 2/100\n",
            "750/750 [==============================] - 2s 3ms/step - loss: 0.4501 - accuracy: 0.8398 - val_loss: 0.3962 - val_accuracy: 0.8578\n",
            "Epoch 3/100\n",
            "750/750 [==============================] - 2s 3ms/step - loss: 0.4096 - accuracy: 0.8521 - val_loss: 0.3798 - val_accuracy: 0.8612\n",
            "Epoch 4/100\n",
            "750/750 [==============================] - 2s 3ms/step - loss: 0.3909 - accuracy: 0.8578 - val_loss: 0.3539 - val_accuracy: 0.8721\n",
            "Epoch 5/100\n",
            "750/750 [==============================] - 2s 3ms/step - loss: 0.3700 - accuracy: 0.8670 - val_loss: 0.3486 - val_accuracy: 0.8765\n",
            "Epoch 6/100\n",
            "750/750 [==============================] - 2s 3ms/step - loss: 0.3593 - accuracy: 0.8684 - val_loss: 0.3446 - val_accuracy: 0.8713\n",
            "Epoch 7/100\n",
            "750/750 [==============================] - 2s 3ms/step - loss: 0.3489 - accuracy: 0.8714 - val_loss: 0.3344 - val_accuracy: 0.8769\n",
            "Epoch 8/100\n",
            "750/750 [==============================] - 2s 3ms/step - loss: 0.3351 - accuracy: 0.8771 - val_loss: 0.3291 - val_accuracy: 0.8787\n",
            "Epoch 9/100\n",
            "750/750 [==============================] - 2s 3ms/step - loss: 0.3310 - accuracy: 0.8774 - val_loss: 0.3364 - val_accuracy: 0.8769\n",
            "Epoch 10/100\n",
            "750/750 [==============================] - 2s 3ms/step - loss: 0.3235 - accuracy: 0.8789 - val_loss: 0.3315 - val_accuracy: 0.8777\n",
            "Epoch 11/100\n",
            "750/750 [==============================] - 2s 3ms/step - loss: 0.3168 - accuracy: 0.8817 - val_loss: 0.3282 - val_accuracy: 0.8795\n",
            "Epoch 12/100\n",
            "750/750 [==============================] - 2s 3ms/step - loss: 0.3104 - accuracy: 0.8825 - val_loss: 0.3254 - val_accuracy: 0.8848\n",
            "Epoch 13/100\n",
            "750/750 [==============================] - 2s 3ms/step - loss: 0.3047 - accuracy: 0.8869 - val_loss: 0.3197 - val_accuracy: 0.8863\n",
            "Epoch 14/100\n",
            "750/750 [==============================] - 2s 3ms/step - loss: 0.3013 - accuracy: 0.8879 - val_loss: 0.3181 - val_accuracy: 0.8873\n",
            "Epoch 15/100\n",
            "750/750 [==============================] - 2s 3ms/step - loss: 0.2962 - accuracy: 0.8886 - val_loss: 0.3116 - val_accuracy: 0.8867\n",
            "Epoch 16/100\n",
            "750/750 [==============================] - 2s 3ms/step - loss: 0.2910 - accuracy: 0.8915 - val_loss: 0.3179 - val_accuracy: 0.8856\n",
            "Epoch 17/100\n",
            "750/750 [==============================] - 2s 3ms/step - loss: 0.2861 - accuracy: 0.8922 - val_loss: 0.3151 - val_accuracy: 0.8865\n",
            "Epoch 18/100\n",
            "750/750 [==============================] - 2s 3ms/step - loss: 0.2830 - accuracy: 0.8944 - val_loss: 0.3078 - val_accuracy: 0.8892\n",
            "Epoch 19/100\n",
            "750/750 [==============================] - 2s 3ms/step - loss: 0.2794 - accuracy: 0.8944 - val_loss: 0.3075 - val_accuracy: 0.8877\n",
            "Epoch 20/100\n",
            "750/750 [==============================] - 2s 3ms/step - loss: 0.2764 - accuracy: 0.8966 - val_loss: 0.3221 - val_accuracy: 0.8865\n",
            "Epoch 21/100\n",
            "750/750 [==============================] - 2s 3ms/step - loss: 0.2699 - accuracy: 0.8989 - val_loss: 0.3121 - val_accuracy: 0.8903\n",
            "Epoch 22/100\n",
            "750/750 [==============================] - 2s 3ms/step - loss: 0.2707 - accuracy: 0.8976 - val_loss: 0.3132 - val_accuracy: 0.8888\n",
            "Epoch 23/100\n",
            "750/750 [==============================] - 2s 3ms/step - loss: 0.2675 - accuracy: 0.8999 - val_loss: 0.3118 - val_accuracy: 0.8905\n",
            "Epoch 24/100\n",
            "750/750 [==============================] - 2s 3ms/step - loss: 0.2618 - accuracy: 0.9001 - val_loss: 0.3121 - val_accuracy: 0.8903\n"
          ]
        }
      ]
    },
    {
      "cell_type": "code",
      "source": [
        "import matplotlib.pyplot as plt\n",
        "\n",
        "plt.plot(history.history['loss'][:-5])\n",
        "plt.plot(history.history['val_loss'][:-5])\n",
        "plt.legend(['loss','val_loss'])\n",
        "plt.show()"
      ],
      "metadata": {
        "colab": {
          "base_uri": "https://localhost:8080/",
          "height": 265
        },
        "id": "Mn-L6kGJCeTF",
        "outputId": "b5e71cf0-48ba-4e6d-b3e8-433a1f9a8a8f"
      },
      "execution_count": 16,
      "outputs": [
        {
          "output_type": "display_data",
          "data": {
            "image/png": "[encoded data removed]",
            "text/plain": [
              "<Figure size 432x288 with 1 Axes>"
            ]
          },
          "metadata": {
            "needs_background": "light"
          }
        }
      ]
    },
    {
      "cell_type": "code",
      "source": [
        "model.evaluate(test_scaled, test_target)"
      ],
      "metadata": {
        "colab": {
          "base_uri": "https://localhost:8080/"
        },
        "id": "emh15ufUHpj5",
        "outputId": "fdaef393-e2b3-4acd-ee73-4fafc20ec96b"
      },
      "execution_count": 17,
      "outputs": [
        {
          "output_type": "stream",
          "name": "stdout",
          "text": [
            "313/313 [==============================] - 0s 1ms/step - loss: 0.3446 - accuracy: 0.8797\n"
          ]
        },
        {
          "output_type": "execute_result",
          "data": {
            "text/plain": [
              "[0.34456583857536316, 0.8797000050544739]"
            ]
          },
          "metadata": {},
          "execution_count": 17
        }
      ]
    },
    {
      "cell_type": "code",
      "source": [
        "model.summary()"
      ],
      "metadata": {
        "colab": {
          "base_uri": "https://localhost:8080/"
        },
        "id": "HaO2fveKL38F",
        "outputId": "39d12ee5-fa20-45a7-d421-62018ef9ee5c"
      },
      "execution_count": 18,
      "outputs": [
        {
          "output_type": "stream",
          "name": "stdout",
          "text": [
            "Model: \"sequential\"\n",
            "_________________________________________________________________\n",
            " Layer (type)                Output Shape              Param #   \n",
            "=================================================================\n",
            " dense (Dense)               (None, 100)               78500     \n",
            "                                                                 \n",
            " dropout (Dropout)           (None, 100)               0         \n",
            "                                                                 \n",
            " dense_1 (Dense)             (None, 10)                1010      \n",
            "                                                                 \n",
            "=================================================================\n",
            "Total params: 79,510\n",
            "Trainable params: 79,510\n",
            "Non-trainable params: 0\n",
            "_________________________________________________________________\n"
          ]
        }
      ]
    },
    {
      "cell_type": "code",
      "source": [
        "model.save('my_model.h5')"
      ],
      "metadata": {
        "id": "t1VdjhjnOT9G"
      },
      "execution_count": 19,
      "outputs": []
    },
    {
      "cell_type": "code",
      "source": [
        "model2 = keras.models.load_model('best.h5')"
      ],
      "metadata": {
        "id": "DWktQvC3OX0O"
      },
      "execution_count": 20,
      "outputs": []
    },
    {
      "cell_type": "code",
      "source": [
        "model2.evaluate(test_scaled, test_target)"
      ],
      "metadata": {
        "colab": {
          "base_uri": "https://localhost:8080/"
        },
        "id": "a_l-_5aYOb9U",
        "outputId": "a0e063bc-25c3-45e8-cb9a-a83928aed02f"
      },
      "execution_count": 21,
      "outputs": [
        {
          "output_type": "stream",
          "name": "stdout",
          "text": [
            "313/313 [==============================] - 1s 1ms/step - loss: 0.3504 - accuracy: 0.8782\n"
          ]
        },
        {
          "output_type": "execute_result",
          "data": {
            "text/plain": [
              "[0.35036158561706543, 0.8781999945640564]"
            ]
          },
          "metadata": {},
          "execution_count": 21
        }
      ]
    },
    {
      "cell_type": "markdown",
      "source": [
        "**5 - 2.**"
      ],
      "metadata": {
        "id": "IWhBBlF7Tq_S"
      }
    },
    {
      "cell_type": "code",
      "source": [
        "mnist = tf.keras.datasets.mnist"
      ],
      "metadata": {
        "id": "PBlyXvl1Sghb"
      },
      "execution_count": 22,
      "outputs": []
    },
    {
      "cell_type": "code",
      "source": [
        "(train_input, train_target),(test_input, test_target) = mnist.load_data()"
      ],
      "metadata": {
        "colab": {
          "base_uri": "https://localhost:8080/"
        },
        "id": "7LfqLjHnSmJS",
        "outputId": "7454dfad-f74d-44c3-dd97-7d2ee3ebaec2"
      },
      "execution_count": 23,
      "outputs": [
        {
          "output_type": "stream",
          "name": "stdout",
          "text": [
            "Downloading data from https://storage.googleapis.com/tensorflow/tf-keras-datasets/mnist.npz\n",
            "11493376/11490434 [==============================] - 0s 0us/step\n",
            "11501568/11490434 [==============================] - 0s 0us/step\n"
          ]
        }
      ]
    },
    {
      "cell_type": "code",
      "source": [
        "train_input.shape"
      ],
      "metadata": {
        "colab": {
          "base_uri": "https://localhost:8080/"
        },
        "id": "Kx_aaMZXTgTZ",
        "outputId": "713a60af-a388-41e7-84b4-58ec73961323"
      },
      "execution_count": 24,
      "outputs": [
        {
          "output_type": "execute_result",
          "data": {
            "text/plain": [
              "(60000, 28, 28)"
            ]
          },
          "metadata": {},
          "execution_count": 24
        }
      ]
    },
    {
      "cell_type": "code",
      "source": [
        "plt.imshow(train_input[0], cmap='gray_r')\n",
        "plt.show()"
      ],
      "metadata": {
        "colab": {
          "base_uri": "https://localhost:8080/",
          "height": 265
        },
        "id": "fToqRnr1SznM",
        "outputId": "25d9bd49-cf9d-4dee-b9b8-443c06711e5f"
      },
      "execution_count": 25,
      "outputs": [
        {
          "output_type": "display_data",
          "data": {
            "image/png": "[encoded data removed]",
            "text/plain": [
              "<Figure size 432x288 with 1 Axes>"
            ]
          },
          "metadata": {
            "needs_background": "light"
          }
        }
      ]
    },
    {
      "cell_type": "code",
      "source": [
        "# 훈련데이터, 검증데이터, 시험데이터\n",
        "# 데이터 표준화\n",
        "# 인공신경망(은닉층 자유)\n",
        "# 검증데이터 사용\n",
        "# callback: early_stopping, checkpoint\n",
        "# 최종 평가\n",
        "\n",
        "mnist = tf.keras.datasets.mnist\n",
        "(train_input, train_target), (test_input, test_target) = mnist.load_data()\n",
        "\n",
        "train_scaled = train_input.reshape(-1, 784) / 255\n",
        "test_scaled = test_input.reshape(-1, 784) / 255\n",
        "\n",
        "train_scaled, val_scaled, train_target, val_target = train_test_split(train_scaled, train_target, test_size = 0.2)\n",
        "\n",
        "dense1 = keras.layers.Dense(50, activation = 'relu', input_shape = (784,))\n",
        "drop1 = keras.layers.Dropout(0.2)\n",
        "dense2 = keras.layers.Dense(10, activation = 'softmax')\n",
        "\n",
        "# 오차 함수(다중 분류) : categorical_crossentropy\n",
        "# 오차 함수(이진 분류) : binary_crossentropy\n",
        "\n",
        "checkpoint = keras.callbacks.ModelCheckpoint('best.h5') # 가장 검증 데이터 오차가 가장 적은 모델을 저장하는 함수\n",
        "early_stopping = keras.callbacks.EarlyStopping(patience=5, restore_best_weights=True) # 5번 시도했는데도 좋아지지않으면 학습 끝낸다.\n",
        "\n",
        "model = keras.Sequential([dense1, drop1, dense2]) # 도화지\n",
        "model.compile(loss = 'sparse_categorical_crossentropy', metrics = 'accuracy', optimizer='adam')\n",
        "\n",
        "history = model.fit(train_scaled, train_target, epochs = 100, validation_data=(val_scaled, val_target), callbacks=[checkpoint, early_stopping], batch_size=32)"
      ],
      "metadata": {
        "id": "do5gCCQlTxqm",
        "colab": {
          "base_uri": "https://localhost:8080/"
        },
        "outputId": "32fe3db1-9f52-4914-cae4-a49d2c8c1753"
      },
      "execution_count": 26,
      "outputs": [
        {
          "output_type": "stream",
          "name": "stdout",
          "text": [
            "Epoch 1/100\n",
            "1500/1500 [==============================] - 4s 2ms/step - loss: 0.4317 - accuracy: 0.8741 - val_loss: 0.2134 - val_accuracy: 0.9377\n",
            "Epoch 2/100\n",
            "1500/1500 [==============================] - 3s 2ms/step - loss: 0.2352 - accuracy: 0.9314 - val_loss: 0.1683 - val_accuracy: 0.9492\n",
            "Epoch 3/100\n",
            "1500/1500 [==============================] - 3s 2ms/step - loss: 0.1946 - accuracy: 0.9419 - val_loss: 0.1420 - val_accuracy: 0.9569\n",
            "Epoch 4/100\n",
            "1500/1500 [==============================] - 3s 2ms/step - loss: 0.1696 - accuracy: 0.9481 - val_loss: 0.1278 - val_accuracy: 0.9613\n",
            "Epoch 5/100\n",
            "1500/1500 [==============================] - 3s 2ms/step - loss: 0.1525 - accuracy: 0.9530 - val_loss: 0.1180 - val_accuracy: 0.9657\n",
            "Epoch 6/100\n",
            "1500/1500 [==============================] - 3s 2ms/step - loss: 0.1376 - accuracy: 0.9571 - val_loss: 0.1114 - val_accuracy: 0.9677\n",
            "Epoch 7/100\n",
            "1500/1500 [==============================] - 3s 2ms/step - loss: 0.1276 - accuracy: 0.9609 - val_loss: 0.1077 - val_accuracy: 0.9689\n",
            "Epoch 8/100\n",
            "1500/1500 [==============================] - 3s 2ms/step - loss: 0.1215 - accuracy: 0.9622 - val_loss: 0.0999 - val_accuracy: 0.9707\n",
            "Epoch 9/100\n",
            "1500/1500 [==============================] - 3s 2ms/step - loss: 0.1154 - accuracy: 0.9638 - val_loss: 0.1032 - val_accuracy: 0.9693\n",
            "Epoch 10/100\n",
            "1500/1500 [==============================] - 3s 2ms/step - loss: 0.1106 - accuracy: 0.9650 - val_loss: 0.0976 - val_accuracy: 0.9722\n",
            "Epoch 11/100\n",
            "1500/1500 [==============================] - 3s 2ms/step - loss: 0.1063 - accuracy: 0.9661 - val_loss: 0.1005 - val_accuracy: 0.9713\n",
            "Epoch 12/100\n",
            "1500/1500 [==============================] - 3s 2ms/step - loss: 0.0979 - accuracy: 0.9682 - val_loss: 0.0984 - val_accuracy: 0.9727\n",
            "Epoch 13/100\n",
            "1500/1500 [==============================] - 3s 2ms/step - loss: 0.0963 - accuracy: 0.9687 - val_loss: 0.0983 - val_accuracy: 0.9720\n",
            "Epoch 14/100\n",
            "1500/1500 [==============================] - 3s 2ms/step - loss: 0.0915 - accuracy: 0.9702 - val_loss: 0.0978 - val_accuracy: 0.9728\n",
            "Epoch 15/100\n",
            "1500/1500 [==============================] - 3s 2ms/step - loss: 0.0901 - accuracy: 0.9696 - val_loss: 0.0991 - val_accuracy: 0.9724\n"
          ]
        }
      ]
    },
    {
      "cell_type": "code",
      "source": [
        "plt.plot(history.history['loss'][:-5])\n",
        "plt.plot(history.history['val_loss'][:-5])\n",
        "plt.legend(['loss', 'val_loss'])\n",
        "plt.show()"
      ],
      "metadata": {
        "id": "kfOud4zNx9jn",
        "colab": {
          "base_uri": "https://localhost:8080/",
          "height": 265
        },
        "outputId": "e650987d-bf05-4d8f-f924-e1005ca1d19f"
      },
      "execution_count": 27,
      "outputs": [
        {
          "output_type": "display_data",
          "data": {
            "image/png": "[encoded data removed]",
            "text/plain": [
              "<Figure size 432x288 with 1 Axes>"
            ]
          },
          "metadata": {
            "needs_background": "light"
          }
        }
      ]
    },
    {
      "cell_type": "code",
      "source": [
        "model.evaluate(test_scaled, test_target)"
      ],
      "metadata": {
        "colab": {
          "base_uri": "https://localhost:8080/"
        },
        "id": "8yxpme1a0kBF",
        "outputId": "e14b9c35-e827-4d90-ff54-20b7329d56f9"
      },
      "execution_count": 28,
      "outputs": [
        {
          "output_type": "stream",
          "name": "stdout",
          "text": [
            "313/313 [==============================] - 1s 2ms/step - loss: 0.0993 - accuracy: 0.9694\n"
          ]
        },
        {
          "output_type": "execute_result",
          "data": {
            "text/plain": [
              "[0.09926598519086838, 0.9693999886512756]"
            ]
          },
          "metadata": {},
          "execution_count": 28
        }
      ]
    },
    {
      "cell_type": "markdown",
      "source": [
        "**5 - 3.**"
      ],
      "metadata": {
        "id": "vZ05HvGM0qgW"
      }
    },
    {
      "cell_type": "code",
      "source": [
        "(train_input, train_target),(test_input, test_target) = keras.datasets.fashion_mnist.load_data()"
      ],
      "metadata": {
        "id": "R0suYdjFx_YB"
      },
      "execution_count": 29,
      "outputs": []
    },
    {
      "cell_type": "code",
      "source": [
        "train_input.shape   # CNN 쓰려면 4차원 (사진갯수, 가로, 세로, 색상)"
      ],
      "metadata": {
        "id": "AB5_XEhdyN_c",
        "colab": {
          "base_uri": "https://localhost:8080/"
        },
        "outputId": "3ad73239-13c7-4055-bac3-83e61cd59975"
      },
      "execution_count": 30,
      "outputs": [
        {
          "output_type": "execute_result",
          "data": {
            "text/plain": [
              "(60000, 28, 28)"
            ]
          },
          "metadata": {},
          "execution_count": 30
        }
      ]
    },
    {
      "cell_type": "code",
      "source": [
        "train_scaled = train_input.reshape(-1,28,28,1)/255\n",
        "test_scaled = test_input.reshape(-1,28,28,1)/255"
      ],
      "metadata": {
        "id": "mlNkfo7ayQkB"
      },
      "execution_count": 31,
      "outputs": []
    },
    {
      "cell_type": "code",
      "source": [
        "train_scaled.shape"
      ],
      "metadata": {
        "id": "FqxRwhLyypjy",
        "colab": {
          "base_uri": "https://localhost:8080/"
        },
        "outputId": "155cbc21-9cee-4a55-a982-6dfb9b7c1da4"
      },
      "execution_count": 32,
      "outputs": [
        {
          "output_type": "execute_result",
          "data": {
            "text/plain": [
              "(60000, 28, 28, 1)"
            ]
          },
          "metadata": {},
          "execution_count": 32
        }
      ]
    },
    {
      "cell_type": "code",
      "source": [
        "train_scaled, val_scaled, train_target, val_target = train_test_split(train_scaled, train_target, test_size=0.2)"
      ],
      "metadata": {
        "id": "RYuIIh4Lysqg"
      },
      "execution_count": 33,
      "outputs": []
    },
    {
      "cell_type": "code",
      "source": [
        "from tensorflow import keras\n",
        "import numpy as np\n",
        "import matplotlib.pyplot as plt\n",
        "from sklearn.model_selection import train_test_split\n",
        "import tensorflow as tf\n",
        "\n",
        "(train_input, train_target), (test_input, test_target) = keras.datasets.fashion_mnist.load_data()\n",
        "\n",
        "train_scaled = train_input.reshape(-1, 28, 28, 1) / 255\n",
        "test_scaled = test_input.reshape(-1, 28, 28, 1) / 255\n",
        "\n",
        "train_scaled, val_scaled, train_target, val_target = train_test_split(train_scaled, train_target, test_size = 0.2)\n",
        "\n",
        "model = keras.Sequential() # 도화지\n",
        "model.add(keras.layers.Conv2D(32, kernel_size = (3,3), activation = 'relu', padding = 'same', input_shape = (28, 28, 1)))\n",
        "model.add(keras.layers.MaxPooling2D(2))\n",
        "model.add(keras.layers.Conv2D(64, kernel_size = (3,3), activation = 'relu', padding = 'same'))\n",
        "model.add(keras.layers.MaxPooling2D(2))\n",
        "\n",
        "model.add(keras.layers.Flatten()) # 사진을 1차원으로 쭉 늘려주는 함수\n",
        "model.add(keras.layers.Dense(100, activation = 'relu'))\n",
        "model.add(keras.layers.Dropout(0.4))\n",
        "model.add(keras.layers.Dense(10, activation = 'softmax'))\n",
        "\n",
        "checkpoint = keras.callbacks.ModelCheckpoint('best.h5') # 가장 검증 데이터 오차가 가장 적은 모델을 저장하는 함수\n",
        "early_stopping = keras.callbacks.EarlyStopping(patience=5, restore_best_weights=True) # 5번 시도했는데도 좋아지지않으면 학습 끝낸다.\n",
        "\n",
        "model.compile(loss = 'sparse_categorical_crossentropy', metrics = 'accuracy', optimizer='adam')\n",
        "\n",
        "history = model.fit(train_scaled, train_target, epochs = 100, validation_data=(val_scaled, val_target), callbacks=[checkpoint, early_stopping], batch_size=32)\n",
        "\n",
        "plt.plot(history.history['loss'][:-5])\n",
        "plt.plot(history.history['val_loss'][:-5])\n",
        "plt.legend(['loss', 'val_loss'])\n",
        "plt.show()"
      ],
      "metadata": {
        "id": "YJLn0IrpzG6d",
        "colab": {
          "base_uri": "https://localhost:8080/",
          "height": 716
        },
        "outputId": "4d3ce3cf-994f-472e-cdbc-ea555bda2704"
      },
      "execution_count": 36,
      "outputs": [
        {
          "output_type": "stream",
          "name": "stdout",
          "text": [
            "Epoch 1/100\n",
            "1500/1500 [==============================] - 59s 39ms/step - loss: 0.5307 - accuracy: 0.8112 - val_loss: 0.3348 - val_accuracy: 0.8762\n",
            "Epoch 2/100\n",
            "1500/1500 [==============================] - 57s 38ms/step - loss: 0.3588 - accuracy: 0.8699 - val_loss: 0.2830 - val_accuracy: 0.8965\n",
            "Epoch 3/100\n",
            "1500/1500 [==============================] - 57s 38ms/step - loss: 0.3060 - accuracy: 0.8897 - val_loss: 0.2602 - val_accuracy: 0.9018\n",
            "Epoch 4/100\n",
            "1500/1500 [==============================] - 57s 38ms/step - loss: 0.2724 - accuracy: 0.9021 - val_loss: 0.2376 - val_accuracy: 0.9111\n",
            "Epoch 5/100\n",
            "1500/1500 [==============================] - 57s 38ms/step - loss: 0.2467 - accuracy: 0.9092 - val_loss: 0.2348 - val_accuracy: 0.9147\n",
            "Epoch 6/100\n",
            "1500/1500 [==============================] - 57s 38ms/step - loss: 0.2297 - accuracy: 0.9153 - val_loss: 0.2290 - val_accuracy: 0.9156\n",
            "Epoch 7/100\n",
            "1500/1500 [==============================] - 57s 38ms/step - loss: 0.2103 - accuracy: 0.9223 - val_loss: 0.2236 - val_accuracy: 0.9190\n",
            "Epoch 8/100\n",
            "1500/1500 [==============================] - 57s 38ms/step - loss: 0.1941 - accuracy: 0.9281 - val_loss: 0.2229 - val_accuracy: 0.9202\n",
            "Epoch 9/100\n",
            "1500/1500 [==============================] - 57s 38ms/step - loss: 0.1818 - accuracy: 0.9312 - val_loss: 0.2349 - val_accuracy: 0.9185\n",
            "Epoch 10/100\n",
            "1500/1500 [==============================] - 57s 38ms/step - loss: 0.1691 - accuracy: 0.9366 - val_loss: 0.2307 - val_accuracy: 0.9232\n",
            "Epoch 11/100\n",
            "1500/1500 [==============================] - 56s 38ms/step - loss: 0.1560 - accuracy: 0.9402 - val_loss: 0.2266 - val_accuracy: 0.9233\n",
            "Epoch 12/100\n",
            "1500/1500 [==============================] - 56s 38ms/step - loss: 0.1467 - accuracy: 0.9438 - val_loss: 0.2506 - val_accuracy: 0.9210\n",
            "Epoch 13/100\n",
            "1500/1500 [==============================] - 56s 38ms/step - loss: 0.1387 - accuracy: 0.9471 - val_loss: 0.2673 - val_accuracy: 0.9230\n"
          ]
        },
        {
          "output_type": "display_data",
          "data": {
            "image/png": "[encoded data removed]",
            "text/plain": [
              "<Figure size 432x288 with 1 Axes>"
            ]
          },
          "metadata": {
            "needs_background": "light"
          }
        }
      ]
    },
    {
      "cell_type": "code",
      "source": [
        "model.evaluate(test_scaled, test_target)"
      ],
      "metadata": {
        "id": "6xY50D5V-N1M",
        "colab": {
          "base_uri": "https://localhost:8080/"
        },
        "outputId": "d714e3a7-e712-492e-e95e-ade85d4f2d21"
      },
      "execution_count": 37,
      "outputs": [
        {
          "output_type": "stream",
          "name": "stdout",
          "text": [
            "313/313 [==============================] - 4s 11ms/step - loss: 0.2409 - accuracy: 0.9143\n"
          ]
        },
        {
          "output_type": "execute_result",
          "data": {
            "text/plain": [
              "[0.2409161627292633, 0.9143000245094299]"
            ]
          },
          "metadata": {},
          "execution_count": 37
        }
      ]
    },
    {
      "cell_type": "code",
      "source": [
        "print(test_scaled.shape, test_target.shape)"
      ],
      "metadata": {
        "id": "FiLv_3Td-SKw",
        "colab": {
          "base_uri": "https://localhost:8080/"
        },
        "outputId": "8516ffda-e358-4c09-e670-f7b9c4dea5e1"
      },
      "execution_count": 38,
      "outputs": [
        {
          "output_type": "stream",
          "name": "stdout",
          "text": [
            "(10000, 28, 28, 1) (10000,)\n"
          ]
        }
      ]
    },
    {
      "cell_type": "code",
      "source": [
        "plt.imshow(val_scaled[0].reshape(28, 28), cmap = 'gray_r')\n",
        "plt.show()"
      ],
      "metadata": {
        "id": "m459ThlJ-6tg",
        "colab": {
          "base_uri": "https://localhost:8080/",
          "height": 265
        },
        "outputId": "4af5bdea-3f50-4057-bb28-8cff839bd374"
      },
      "execution_count": 40,
      "outputs": [
        {
          "output_type": "display_data",
          "data": {
            "image/png": "[encoded data removed]",
            "text/plain": [
              "<Figure size 432x288 with 1 Axes>"
            ]
          },
          "metadata": {
            "needs_background": "light"
          }
        }
      ]
    },
    {
      "cell_type": "code",
      "source": [
        "model.predict(val_scaled[0].reshape(1,28,28,1))"
      ],
      "metadata": {
        "id": "hUouK9Xm_BGz",
        "colab": {
          "base_uri": "https://localhost:8080/"
        },
        "outputId": "273908df-3078-4fd5-c845-43fdc337f61c"
      },
      "execution_count": 41,
      "outputs": [
        {
          "output_type": "execute_result",
          "data": {
            "text/plain": [
              "array([[3.94793082e-04, 6.24386098e-11, 6.67365640e-02, 1.86709565e-06,\n",
              "        1.59776653e-03, 3.00165275e-12, 9.31256950e-01, 1.27849920e-13,\n",
              "        1.19794495e-05, 3.23907307e-12]], dtype=float32)"
            ]
          },
          "metadata": {},
          "execution_count": 41
        }
      ]
    },
    {
      "cell_type": "code",
      "source": [
        "plt.bar(range(1,11), model.predict(val_scaled[0].reshape(1,28,28,1))[0])\n",
        "plt.xlabel('class')\n",
        "plt.ylabel('prob')\n",
        "plt.show()"
      ],
      "metadata": {
        "id": "-xVEpXEM_aty",
        "colab": {
          "base_uri": "https://localhost:8080/",
          "height": 279
        },
        "outputId": "5106847a-1e76-4803-e993-b5d16b07dff7"
      },
      "execution_count": 42,
      "outputs": [
        {
          "output_type": "display_data",
          "data": {
            "image/png": "[encoded data removed]",
            "text/plain": [
              "<Figure size 432x288 with 1 Axes>"
            ]
          },
          "metadata": {
            "needs_background": "light"
          }
        }
      ]
    },
    {
      "cell_type": "code",
      "source": [
        "classes = ['티셔츠', '바지', '스웨터', '드레스', '코트', '샌달', '셔츠', '스니커즈', '가방', '앵클부츠']\n",
        "classes[np.argmax(model.predict(val_scaled[0].reshape(1, 28, 28, 1)))]"
      ],
      "metadata": {
        "id": "WBpVIweW_qix",
        "colab": {
          "base_uri": "https://localhost:8080/",
          "height": 35
        },
        "outputId": "ab443b1f-71f2-4d91-e200-e9c2264f5128"
      },
      "execution_count": 43,
      "outputs": [
        {
          "output_type": "execute_result",
          "data": {
            "application/vnd.google.colaboratory.intrinsic+json": {
              "type": "string"
            },
            "text/plain": [
              "'셔츠'"
            ]
          },
          "metadata": {},
          "execution_count": 43
        }
      ]
    },
    {
      "cell_type": "markdown",
      "source": [
        "**5 - 4.**"
      ],
      "metadata": {
        "id": "W4Kqu8pY1ajc"
      }
    },
    {
      "cell_type": "code",
      "source": [
        "from tensorflow.keras.datasets import imdb # 영화 리뷰데이터 // 긍부정"
      ],
      "metadata": {
        "id": "Lo9sgDhsAf0y"
      },
      "execution_count": 44,
      "outputs": []
    },
    {
      "cell_type": "code",
      "source": [
        "(train_input, train_target),(test_input, test_target) = imdb.load_data(num_words = 500) # 빈도순으로 가장 많이 사용된 단어 500개"
      ],
      "metadata": {
        "id": "Ijkx-ej3CD-a",
        "colab": {
          "base_uri": "https://localhost:8080/"
        },
        "outputId": "d0afcbe9-baf8-48d7-8cb0-b4277c7886dc"
      },
      "execution_count": 45,
      "outputs": [
        {
          "output_type": "stream",
          "name": "stdout",
          "text": [
            "Downloading data from https://storage.googleapis.com/tensorflow/tf-keras-datasets/imdb.npz\n",
            "17465344/17464789 [==============================] - 0s 0us/step\n",
            "17473536/17464789 [==============================] - 0s 0us/step\n"
          ]
        }
      ]
    },
    {
      "cell_type": "code",
      "source": [
        "print(train_input.shape, test_input.shape)"
      ],
      "metadata": {
        "id": "vcnN_-RoCNkD",
        "colab": {
          "base_uri": "https://localhost:8080/"
        },
        "outputId": "57243307-c388-46d5-9784-ffaeea47ef47"
      },
      "execution_count": 46,
      "outputs": [
        {
          "output_type": "stream",
          "name": "stdout",
          "text": [
            "(25000,) (25000,)\n"
          ]
        }
      ]
    },
    {
      "cell_type": "code",
      "source": [
        "train_target"
      ],
      "metadata": {
        "id": "pB74IbWFCXh8",
        "colab": {
          "base_uri": "https://localhost:8080/"
        },
        "outputId": "8bb969a9-c483-4def-fb03-ca7af85128bf"
      },
      "execution_count": 47,
      "outputs": [
        {
          "output_type": "execute_result",
          "data": {
            "text/plain": [
              "array([1, 0, 0, ..., 0, 1, 0])"
            ]
          },
          "metadata": {},
          "execution_count": 47
        }
      ]
    },
    {
      "cell_type": "code",
      "source": [
        "len(train_input[0])"
      ],
      "metadata": {
        "id": "tOkoZqHUClKz",
        "colab": {
          "base_uri": "https://localhost:8080/"
        },
        "outputId": "11972688-2b3e-403b-dd9c-a4a967de5db3"
      },
      "execution_count": 48,
      "outputs": [
        {
          "output_type": "execute_result",
          "data": {
            "text/plain": [
              "218"
            ]
          },
          "metadata": {},
          "execution_count": 48
        }
      ]
    },
    {
      "cell_type": "code",
      "source": [
        "len(train_input[1])"
      ],
      "metadata": {
        "id": "qpoSvheCCnwc",
        "colab": {
          "base_uri": "https://localhost:8080/"
        },
        "outputId": "ac2be905-7794-44ef-aca2-ebe23f45f4b6"
      },
      "execution_count": 49,
      "outputs": [
        {
          "output_type": "execute_result",
          "data": {
            "text/plain": [
              "189"
            ]
          },
          "metadata": {},
          "execution_count": 49
        }
      ]
    },
    {
      "cell_type": "code",
      "source": [
        "train_input[0]"
      ],
      "metadata": {
        "id": "hWar8CIZCp7P",
        "colab": {
          "base_uri": "https://localhost:8080/"
        },
        "outputId": "6bea2b1c-7b35-4c21-a448-9c7cefc86619"
      },
      "execution_count": 50,
      "outputs": [
        {
          "output_type": "execute_result",
          "data": {
            "text/plain": [
              "[1,\n",
              " 14,\n",
              " 22,\n",
              " 16,\n",
              " 43,\n",
              " 2,\n",
              " 2,\n",
              " 2,\n",
              " 2,\n",
              " 65,\n",
              " 458,\n",
              " 2,\n",
              " 66,\n",
              " 2,\n",
              " 4,\n",
              " 173,\n",
              " 36,\n",
              " 256,\n",
              " 5,\n",
              " 25,\n",
              " 100,\n",
              " 43,\n",
              " 2,\n",
              " 112,\n",
              " 50,\n",
              " 2,\n",
              " 2,\n",
              " 9,\n",
              " 35,\n",
              " 480,\n",
              " 284,\n",
              " 5,\n",
              " 150,\n",
              " 4,\n",
              " 172,\n",
              " 112,\n",
              " 167,\n",
              " 2,\n",
              " 336,\n",
              " 385,\n",
              " 39,\n",
              " 4,\n",
              " 172,\n",
              " 2,\n",
              " 2,\n",
              " 17,\n",
              " 2,\n",
              " 38,\n",
              " 13,\n",
              " 447,\n",
              " 4,\n",
              " 192,\n",
              " 50,\n",
              " 16,\n",
              " 6,\n",
              " 147,\n",
              " 2,\n",
              " 19,\n",
              " 14,\n",
              " 22,\n",
              " 4,\n",
              " 2,\n",
              " 2,\n",
              " 469,\n",
              " 4,\n",
              " 22,\n",
              " 71,\n",
              " 87,\n",
              " 12,\n",
              " 16,\n",
              " 43,\n",
              " 2,\n",
              " 38,\n",
              " 76,\n",
              " 15,\n",
              " 13,\n",
              " 2,\n",
              " 4,\n",
              " 22,\n",
              " 17,\n",
              " 2,\n",
              " 17,\n",
              " 12,\n",
              " 16,\n",
              " 2,\n",
              " 18,\n",
              " 2,\n",
              " 5,\n",
              " 62,\n",
              " 386,\n",
              " 12,\n",
              " 8,\n",
              " 316,\n",
              " 8,\n",
              " 106,\n",
              " 5,\n",
              " 4,\n",
              " 2,\n",
              " 2,\n",
              " 16,\n",
              " 480,\n",
              " 66,\n",
              " 2,\n",
              " 33,\n",
              " 4,\n",
              " 130,\n",
              " 12,\n",
              " 16,\n",
              " 38,\n",
              " 2,\n",
              " 5,\n",
              " 25,\n",
              " 124,\n",
              " 51,\n",
              " 36,\n",
              " 135,\n",
              " 48,\n",
              " 25,\n",
              " 2,\n",
              " 33,\n",
              " 6,\n",
              " 22,\n",
              " 12,\n",
              " 215,\n",
              " 28,\n",
              " 77,\n",
              " 52,\n",
              " 5,\n",
              " 14,\n",
              " 407,\n",
              " 16,\n",
              " 82,\n",
              " 2,\n",
              " 8,\n",
              " 4,\n",
              " 107,\n",
              " 117,\n",
              " 2,\n",
              " 15,\n",
              " 256,\n",
              " 4,\n",
              " 2,\n",
              " 7,\n",
              " 2,\n",
              " 5,\n",
              " 2,\n",
              " 36,\n",
              " 71,\n",
              " 43,\n",
              " 2,\n",
              " 476,\n",
              " 26,\n",
              " 400,\n",
              " 317,\n",
              " 46,\n",
              " 7,\n",
              " 4,\n",
              " 2,\n",
              " 2,\n",
              " 13,\n",
              " 104,\n",
              " 88,\n",
              " 4,\n",
              " 381,\n",
              " 15,\n",
              " 297,\n",
              " 98,\n",
              " 32,\n",
              " 2,\n",
              " 56,\n",
              " 26,\n",
              " 141,\n",
              " 6,\n",
              " 194,\n",
              " 2,\n",
              " 18,\n",
              " 4,\n",
              " 226,\n",
              " 22,\n",
              " 21,\n",
              " 134,\n",
              " 476,\n",
              " 26,\n",
              " 480,\n",
              " 5,\n",
              " 144,\n",
              " 30,\n",
              " 2,\n",
              " 18,\n",
              " 51,\n",
              " 36,\n",
              " 28,\n",
              " 224,\n",
              " 92,\n",
              " 25,\n",
              " 104,\n",
              " 4,\n",
              " 226,\n",
              " 65,\n",
              " 16,\n",
              " 38,\n",
              " 2,\n",
              " 88,\n",
              " 12,\n",
              " 16,\n",
              " 283,\n",
              " 5,\n",
              " 16,\n",
              " 2,\n",
              " 113,\n",
              " 103,\n",
              " 32,\n",
              " 15,\n",
              " 16,\n",
              " 2,\n",
              " 19,\n",
              " 178,\n",
              " 32]"
            ]
          },
          "metadata": {},
          "execution_count": 50
        }
      ]
    },
    {
      "cell_type": "code",
      "source": [
        "train_input, val_input, train_target, val_target = train_test_split(train_input, train_target, test_size=0.2)"
      ],
      "metadata": {
        "id": "Z5QBbMb-Crbl"
      },
      "execution_count": 51,
      "outputs": []
    },
    {
      "cell_type": "code",
      "source": [
        "from tensorflow.keras.preprocessing.sequence import pad_sequences\n",
        "\n",
        "train_seq = pad_sequences(train_input, maxlen = 100) # 짧든 길든 잘라주는 함수 짧으면 0으로 채우고, 아니면 자르고\n",
        "val_seq = pad_sequences(val_input, maxlen = 100)\n",
        "test_seq = pad_sequences(test_input, maxlen = 100)"
      ],
      "metadata": {
        "id": "lTXtxj1UDPf1"
      },
      "execution_count": 53,
      "outputs": []
    },
    {
      "cell_type": "code",
      "source": [
        "train_seq.shape"
      ],
      "metadata": {
        "id": "ghBxo1nWD4T9",
        "colab": {
          "base_uri": "https://localhost:8080/"
        },
        "outputId": "a0b22c13-8cfa-4e32-ea19-a8b2f84ee99c"
      },
      "execution_count": 54,
      "outputs": [
        {
          "output_type": "execute_result",
          "data": {
            "text/plain": [
              "(20000, 100)"
            ]
          },
          "metadata": {},
          "execution_count": 54
        }
      ]
    },
    {
      "cell_type": "code",
      "source": [
        "train_seq[0]"
      ],
      "metadata": {
        "colab": {
          "base_uri": "https://localhost:8080/"
        },
        "id": "_maXMky-1nCa",
        "outputId": "92254e1b-46b8-4ea9-8c01-16bdd6514228"
      },
      "execution_count": 55,
      "outputs": [
        {
          "output_type": "execute_result",
          "data": {
            "text/plain": [
              "array([  0,   0,   0,   0,   0,   0,   0,   0,   0,   0,   0,   0,   0,\n",
              "         0,   0,   0,   0,   0,   0,   0,   0,   0,   0,   0,   0,   0,\n",
              "         0,   0,   0,   0,   0,   0,   0,   0,   0,   1,   2,   9,  51,\n",
              "         2,   8,  30,   2,   2, 236, 206,  20, 159,  29,   2, 141,  35,\n",
              "         2, 284,  45,  44,   6,   2,   2,  15, 215, 339,  27, 464, 103,\n",
              "       112,   2,   2,  34,   2,  15, 181,  98,   8, 169, 289,   2,   2,\n",
              "       278, 120,   2,   2,   2,  12,  47,  87, 206,   2,   2,   7, 129,\n",
              "         2, 253,   5,   6,  87,  58,  33,   4, 102], dtype=int32)"
            ]
          },
          "metadata": {},
          "execution_count": 55
        }
      ]
    },
    {
      "cell_type": "code",
      "source": [
        "from tensorflow import keras\n",
        "import numpy as np\n",
        "import matplotlib.pyplot as plt\n",
        "from sklearn.model_selection import train_test_split\n",
        "import tensorflow as tf\n",
        "from tensorflow.keras.datasets import imdb # 영화 리뷰 데이터 // 긍정, 부정\n",
        "from tensorflow.keras.preprocessing.sequence import pad_sequences\n",
        "\n",
        "(train_input, train_target), (test_input, test_target) = imdb.load_data(num_words = 500) # 빈도순으로 가장 많이 사용된 단어 500개\n",
        "train_input, val_input, train_target, val_target = train_test_split(train_input, train_target, test_size = 0.2)\n",
        "\n",
        "train_seq = pad_sequences(train_input, maxlen = 100) # 짧든 길든 잘라주는 함수 짧으면 0으로 채우고, 아니면 자르고\n",
        "val_seq = pad_sequences(val_input, maxlen = 100)\n",
        "test_seq = pad_sequences(test_input, maxlen = 100)\n",
        "\n",
        "train_oh = keras.utils.to_categorical(train_seq)\n",
        "val_oh = keras.utils.to_categorical(val_seq)\n",
        "test_oh = keras.utils.to_categorical(test_seq)\n",
        "\n",
        "model = keras.Sequential()\n",
        "model.add(keras.layers.SimpleRNN(8, input_shape = (100, 500)))\n",
        "model.add(keras.layers.Dense(1, activation = 'sigmoid'))\n",
        "\n",
        "checkpoint = keras.callbacks.ModelCheckpoint('best.h5') # 가장 검증 데이터 오차가 가장 적은 모델을 저장하는 함수\n",
        "early_stopping = keras.callbacks.EarlyStopping(patience=5, restore_best_weights=True) # 5번 시도했는데도 좋아지지않으면 학습 끝낸다.\n",
        "\n",
        "model.compile(loss = 'binary_crossentropy', optimizer='adam', metrics='accuracy')\n",
        "\n",
        "history = model.fit(train_oh, train_target, epochs = 100, validation_data=(val_oh, val_target), callbacks=[early_stopping, checkpoint])"
      ],
      "metadata": {
        "colab": {
          "base_uri": "https://localhost:8080/"
        },
        "id": "vbOVAcbd1vhZ",
        "outputId": "7b322a30-a2a2-446b-b373-cf44124a79c1"
      },
      "execution_count": 56,
      "outputs": [
        {
          "output_type": "stream",
          "name": "stdout",
          "text": [
            "Epoch 1/100\n",
            "625/625 [==============================] - 17s 25ms/step - loss: 0.5982 - accuracy: 0.6656 - val_loss: 0.5010 - val_accuracy: 0.7670\n",
            "Epoch 2/100\n",
            "625/625 [==============================] - 15s 25ms/step - loss: 0.4830 - accuracy: 0.7757 - val_loss: 0.4687 - val_accuracy: 0.7802\n",
            "Epoch 3/100\n",
            "625/625 [==============================] - 15s 25ms/step - loss: 0.4528 - accuracy: 0.7875 - val_loss: 0.4530 - val_accuracy: 0.7892\n",
            "Epoch 4/100\n",
            "625/625 [==============================] - 15s 24ms/step - loss: 0.4348 - accuracy: 0.8026 - val_loss: 0.4482 - val_accuracy: 0.7908\n",
            "Epoch 5/100\n",
            "625/625 [==============================] - 15s 25ms/step - loss: 0.4285 - accuracy: 0.8051 - val_loss: 0.4410 - val_accuracy: 0.7982\n",
            "Epoch 6/100\n",
            "625/625 [==============================] - 15s 25ms/step - loss: 0.4193 - accuracy: 0.8105 - val_loss: 0.4421 - val_accuracy: 0.7946\n",
            "Epoch 7/100\n",
            "625/625 [==============================] - 15s 24ms/step - loss: 0.4141 - accuracy: 0.8134 - val_loss: 0.4412 - val_accuracy: 0.7994\n",
            "Epoch 8/100\n",
            "625/625 [==============================] - 15s 24ms/step - loss: 0.4346 - accuracy: 0.8046 - val_loss: 0.4434 - val_accuracy: 0.7992\n",
            "Epoch 9/100\n",
            "625/625 [==============================] - 15s 24ms/step - loss: 0.4306 - accuracy: 0.8062 - val_loss: 0.4417 - val_accuracy: 0.7950\n",
            "Epoch 10/100\n",
            "625/625 [==============================] - 15s 24ms/step - loss: 0.4207 - accuracy: 0.8120 - val_loss: 0.4468 - val_accuracy: 0.7914\n"
          ]
        }
      ]
    },
    {
      "cell_type": "code",
      "source": [
        "model = keras.Sequential()\n",
        "model.add(keras.layers.SimpleRNN(8,input_shape=(100,500)))\n",
        "model.add(keras.layers.Dense(1, activation='sigmoid'))\n",
        "\n",
        "checkpoint = keras.callbacks.ModelCheckpoint('best.h5') # 가장 검증데이터 오차가 적은 모델 저장하는 함수\n",
        "early_stopping = keras.callbacks.EarlyStopping(patience=5, restore_best_weights=True) # 에폭 5회 시도해도 좋아지지 않으면 학습 종료\n",
        "\n",
        "model.compile(loss='binary_crossentropy', optimizer='adam', metrics='accuracy')"
      ],
      "metadata": {
        "id": "Kd_FPik3D6Ed"
      },
      "execution_count": 57,
      "outputs": []
    },
    {
      "cell_type": "code",
      "source": [
        "train_oh = keras.utils.to_categorical(train_seq)\n",
        "val_oh = keras.utils.to_categorical(val_seq)\n",
        "test_oh = keras.utils.to_categorical(test_seq)"
      ],
      "metadata": {
        "id": "h6M23ek8EuKK"
      },
      "execution_count": null,
      "outputs": []
    },
    {
      "cell_type": "code",
      "source": [
        "train_oh[0]"
      ],
      "metadata": {
        "id": "l1fQS9ZOE8Kb"
      },
      "execution_count": null,
      "outputs": []
    },
    {
      "cell_type": "code",
      "source": [
        "history = model.fit(train_oh, train_target, epochs=100, validation_data=(val_oh, val_target), callbacks=[checkpoint, early_stopping])"
      ],
      "metadata": {
        "id": "v6TKq3XDFH6A"
      },
      "execution_count": null,
      "outputs": []
    },
    {
      "cell_type": "code",
      "source": [
        "plt.plot(history.history['loss'][:-5])\n",
        "plt.plot(history.history['val_loss'][:-5])\n",
        "plt.legend(['loss', 'val_loss'])\n",
        "plt.show()"
      ],
      "metadata": {
        "id": "Pc9sZniFGUYf"
      },
      "execution_count": null,
      "outputs": []
    },
    {
      "cell_type": "code",
      "source": [
        "(train_input, train_target), (test_input, test_target) = keras.datasets.fashion_mnist.load_data()\n",
        "\n",
        "train_scaled = train_input.reshape(-1, 784) /255\n",
        "test_scaled = test_input.reshape(-1,784) / 255\n",
        "\n",
        "train_scaled, val_scaled, train_target, val_target = train_test_split(train_scaled, train_target, test_size=0.2)\n",
        "\n",
        "dense1 = keras.layers.Dense(100, activation = 'relu' , input_shape = (784,))\n",
        "drop1 = keras.layers.Dropout(0.3)\n",
        "dense2 = keras.layers.Dense(10, activation = 'softmax')\n",
        "\n",
        "# 오차 함수(다중 분류) : categorical_crossentropy\n",
        "# 오차 함수(이진 분류) : binary_crossentropy\n",
        "\n",
        "checkpoint = keras.callbacks.ModelCheckpoint('best.h5')\n",
        "early_stopping = keras.callbacks.EarlyStopping(patience = 5, restore_best_weights=True)\n",
        "\n",
        "model = keras.Sequential([dense1, drop1, dense2]) # 도화지\n",
        "model.compile(loss = 'sparse_categorical_crossentropy' , metrics = 'accuracy', optimizer = 'adam')\n",
        "\n",
        "history = model.fit(train_scaled, train_target, epochs = 30, validation_data=(val_scaled, val_target) , callbacks = [checkpoint, early_stopping], batch_size =32)"
      ],
      "metadata": {
        "id": "b6tHzYKE12t1"
      },
      "execution_count": null,
      "outputs": []
    },
    {
      "cell_type": "markdown",
      "source": [
        "**5 -5.**"
      ],
      "metadata": {
        "id": "Gu8sDfps14-X"
      }
    },
    {
      "cell_type": "code",
      "source": [
        "import requests\n",
        "from bs4 import BeautifulSoup\n",
        "import time\n",
        "import pandas as pd\n",
        "\n",
        "headers = {'User-Agent' : 'Mozilla/5.0 (Macintosh; Intel Mac OS X 10_9_5)'}\n",
        "\n",
        "url = requests.get(\"https://finance.naver.com/item/sise_day.naver?code=035420\", headers = headers)\n",
        "html = BeautifulSoup(url.text)"
      ],
      "metadata": {
        "id": "7xyTWV7W14wS"
      },
      "execution_count": null,
      "outputs": []
    },
    {
      "cell_type": "code",
      "source": [
        "last_page = int(html.find('td', class_ = 'pgRR').find('a')['href'].split('=')[2])\n",
        "last_page"
      ],
      "metadata": {
        "id": "I3FdgA9V18UK"
      },
      "execution_count": null,
      "outputs": []
    },
    {
      "cell_type": "code",
      "source": [
        "from tqdm import tqdm\n",
        "\n",
        "total = []\n",
        "\n",
        "for n in tqdm(range(1, 476)):\n",
        "\n",
        "  url=requests.get(\"https://finance.naver.com/item/sise_day.naver?code=035420&page={}\".format(n), headers = headers)\n",
        "  html=BeautifulSoup(url.text)\n",
        "\n",
        "  table = html.find('table')\n",
        "  table = pd.read_html(str(table))[0]\n",
        "  table = table.dropna()\n",
        "  total.append(table)\n",
        "  time.sleep(0.3)"
      ],
      "metadata": {
        "id": "XJu47AiZ2V5u"
      },
      "execution_count": null,
      "outputs": []
    },
    {
      "cell_type": "code",
      "source": [
        "df = pd.concat(total, ignore_index=True)\n",
        "df = df.dropna()\n",
        "df"
      ],
      "metadata": {
        "id": "kEXYj5J92YFj"
      },
      "execution_count": null,
      "outputs": []
    },
    {
      "cell_type": "code",
      "source": [
        "from sklearn.model_selection import train_test_split\n",
        "\n",
        "stock = df\n",
        "\n",
        "stock = stock[::-1]\n",
        "stock.index = stock['날짜']\n",
        "\n",
        "del stock['날짜']\n",
        "del stock['전일비']\n",
        "\n",
        "stock2 = stock.to_numpy()\n",
        "\n",
        "data = []\n",
        "target = []\n",
        "\n",
        "window = 10\n",
        "\n",
        "mean = np.mean(stock2, axis = 0)\n",
        "std = np.std(stock2, axis = 0)\n",
        "\n",
        "stock3 = (stock2 - mean) / std\n",
        "\n",
        "for i in range(len(stock3) - window):\n",
        "  \n",
        "  data.append(stock3[i : i + window])\n",
        "  target.append(stock3[i+window, 0])\n",
        "\n",
        "data = np.array(data)\n",
        "target = np.array(target)\n",
        "\n",
        "data1 = data[:-365]\n",
        "data2 = data[-365:]\n",
        "\n",
        "target1 = target[:-365]\n",
        "target2 = target[-365:]\n",
        "\n",
        "train_input, test_input, train_target, test_target = train_test_split(data1, target1, test_size = 0.2)\n",
        "\n",
        "model = keras.Sequential() # 도화지\n",
        "model.add(keras.layers.SimpleRNN(16, activation = 'relu', input_shape = (10, 5)))\n",
        "model.add(keras.layers.Dense(1))\n",
        "\n",
        "checkpoint = keras.callbacks.ModelCheckpoint('best.h5')\n",
        "early_stopping = keras.callbacks.EarlyStopping(patience = 5, restore_best_weights=True)\n",
        "\n",
        "model.compile(loss = 'mean_squared_error', optimizer = 'adam')\n",
        "\n",
        "model.fit(data1, target1, epochs = 100, callbacks=[checkpoint, early_stopping], validation_data=(test_input, test_target))\n",
        "\n",
        "plt.plot(target2)\n",
        "plt.plot(model.predict(data2))\n",
        "plt.legend(['real', 'prediction'])\n",
        "plt.show()"
      ],
      "metadata": {
        "id": "T5vFa35s2Z35"
      },
      "execution_count": null,
      "outputs": []
    },
    {
      "cell_type": "code",
      "source": [
        "stock.index = stock['날짜']\n",
        "stock"
      ],
      "metadata": {
        "id": "BgOv_HpO2dox"
      },
      "execution_count": null,
      "outputs": []
    },
    {
      "cell_type": "code",
      "source": [
        "del stock['날짜']\n",
        "del stock['전일비']\n",
        "stock"
      ],
      "metadata": {
        "id": "bHh7Jvmt2fdM"
      },
      "execution_count": null,
      "outputs": []
    },
    {
      "cell_type": "code",
      "source": [
        "stock2 = stock.to_numpy()\n",
        "stock2"
      ],
      "metadata": {
        "id": "zR9f2kuw2jFN"
      },
      "execution_count": null,
      "outputs": []
    },
    {
      "cell_type": "code",
      "source": [
        "data = []\n",
        "target = []\n",
        "\n",
        "window = 10\n",
        "\n",
        "for i in range(len(stock2) - window):\n",
        "  \n",
        "  data.append(stock2[i : i + window])\n",
        "  target.append(stock2[i+window, 0])"
      ],
      "metadata": {
        "id": "-0m5Fpnn2jCY"
      },
      "execution_count": null,
      "outputs": []
    },
    {
      "cell_type": "code",
      "source": [
        "data[0]"
      ],
      "metadata": {
        "id": "-j-KtaL92i_x"
      },
      "execution_count": null,
      "outputs": []
    },
    {
      "cell_type": "code",
      "source": [
        "target[0]"
      ],
      "metadata": {
        "id": "KDB-7D252i9I"
      },
      "execution_count": null,
      "outputs": []
    },
    {
      "cell_type": "code",
      "source": [
        "import numpy as np\n",
        "\n",
        "data = np.array(data)\n",
        "target = np.array(target)\n",
        "\n",
        "from tensorflow import keras\n",
        "\n",
        "model = keras.Sequential() # 도화지\n",
        "model.add(keras.layers.SimpleRNN(16, activation = 'relu', input_shape = (10, 5)))\n",
        "model.add(keras.layers.Dense(1))\n",
        "\n",
        "checkpoint = keras.callbacks.ModelCheckpoint('best.h5')\n",
        "early_stopping = keras.callbacks.EarlyStopping(patience = 5, restore_best_weights=True)\n",
        "\n",
        "model.compile(loss = 'mean_squared_error', optimizer = 'adam')\n",
        "\n",
        "model.fit(data, target, epochs = 100, callbacks=[checkpoint, early_stopping])"
      ],
      "metadata": {
        "id": "5aWRcnVe2i6R"
      },
      "execution_count": null,
      "outputs": []
    },
    {
      "cell_type": "code",
      "source": [
        "import matplotlib.pyplot as plt\n",
        "\n",
        "plt.plot(target2)\n",
        "plt.plot(model.predict(data2))\n",
        "plt.legend(['real', 'prediction'])\n",
        "plt.show()"
      ],
      "metadata": {
        "id": "bUBwz_5X2i3L"
      },
      "execution_count": null,
      "outputs": []
    },
    {
      "cell_type": "code",
      "source": [
        "pip install finterstellar"
      ],
      "metadata": {
        "id": "9NQ_kyBf2i0l"
      },
      "execution_count": null,
      "outputs": []
    },
    {
      "cell_type": "code",
      "source": [
        "import finterstellar as fs\n",
        "\n",
        "def test(name):\n",
        "  \n",
        "  df = fs.get_price(name)\n",
        "  df['day7'] = df[name].rolling(window = 7).mean()\n",
        "  df['day30'] = df[name].rolling(window = 30).mean()\n",
        "  df['day60'] = df[name].rolling(window = 60).mean()\n",
        "  df['day120'] = df[name].rolling(window = 120).mean()\n",
        "\n",
        "  if df.iloc[-1]['day7'] > df.iloc[-1]['day30'] > df.iloc[-1]['day60'] > df.iloc[-1]['day120']:\n",
        "    print('{} 주식을 추천합니다.'.format(name))\n",
        "    fs.draw_chart(df, right = name, left = ['day7', 'day30', 'day60', 'day120'])\n",
        "\n",
        "for i in nasdaq:\n",
        "  try:\n",
        "    test(i)\n",
        "  except:\n",
        "    continue"
      ],
      "metadata": {
        "id": "J57TCubT2iul"
      },
      "execution_count": null,
      "outputs": []
    },
    {
      "cell_type": "code",
      "source": [
        "test('AAPL')"
      ],
      "metadata": {
        "id": "duux981-2ir_"
      },
      "execution_count": null,
      "outputs": []
    },
    {
      "cell_type": "code",
      "source": [
        "!pip install -U finance-datareader"
      ],
      "metadata": {
        "id": "H6nQnDG62imO"
      },
      "execution_count": null,
      "outputs": []
    },
    {
      "cell_type": "code",
      "source": [
        "import FinanceDataReader as fdr\n",
        "\n",
        "nasdaq = fdr.StockListing('NASDAQ')\n",
        "nasdaq"
      ],
      "metadata": {
        "id": "mkic8MC32ier"
      },
      "execution_count": null,
      "outputs": []
    },
    {
      "cell_type": "code",
      "source": [
        "nasdaq = nasdaq['Symbol']\n",
        "nasdaq"
      ],
      "metadata": {
        "id": "mH8nJHDt25Z7"
      },
      "execution_count": null,
      "outputs": []
    },
    {
      "cell_type": "code",
      "source": [
        "for i in nasdaq:\n",
        "  try:\n",
        "    test(i)\n",
        "  except:\n",
        "    continue"
      ],
      "metadata": {
        "id": "1BeNaPh425XD"
      },
      "execution_count": null,
      "outputs": []
    },
    {
      "cell_type": "code",
      "source": [
        "fs.draw_chart(df, right = 'AAPL', left = ['day7', 'day30', 'day60', 'day120'])"
      ],
      "metadata": {
        "id": "eltBbxkj25Ux"
      },
      "execution_count": null,
      "outputs": []
    },
    {
      "cell_type": "code",
      "source": [
        "if df.iloc[-1]['day7'] > df.iloc[-1]['day30'] > df.iloc[-1]['day60'] > df.iloc[-1]['day120']:\n",
        "  print('{} 주식을 추천합니다.'.format(name))"
      ],
      "metadata": {
        "id": "asf8Ea0H25R3"
      },
      "execution_count": null,
      "outputs": []
    },
    {
      "cell_type": "code",
      "source": [
        "import finterstellar as fs\n",
        "\n",
        "df = fs.get_price('AAPL')\n",
        "fs.rsi(df)\n",
        "df"
      ],
      "metadata": {
        "id": "d_UeZfXZ25Pd"
      },
      "execution_count": null,
      "outputs": []
    },
    {
      "cell_type": "code",
      "source": [
        "fs.draw_chart(df, left = 'rsi', right = 'AAPL') # 주가 흐름 강도"
      ],
      "metadata": {
        "id": "wnzIs0IU3B_J"
      },
      "execution_count": null,
      "outputs": []
    },
    {
      "cell_type": "code",
      "source": [
        "fs.indicator_to_signal(df, factor = 'rsi', buy = 40, sell = 60)"
      ],
      "metadata": {
        "id": "EmvSPt6I3DmB"
      },
      "execution_count": null,
      "outputs": []
    },
    {
      "cell_type": "code",
      "source": [
        "fs.position(df)"
      ],
      "metadata": {
        "id": "FSgP9bmw3FO9"
      },
      "execution_count": null,
      "outputs": []
    },
    {
      "cell_type": "code",
      "source": [
        "fs.evaluate(df, cost = 0.001) # cost 주식 살 때 거래 수수료"
      ],
      "metadata": {
        "id": "GsgVSonQ3HQJ"
      },
      "execution_count": null,
      "outputs": []
    },
    {
      "cell_type": "code",
      "source": [
        "fs.performance(df, rf_rate = 0.01) # 무위험 이자율"
      ],
      "metadata": {
        "id": "I_zHonvX3JYm"
      },
      "execution_count": null,
      "outputs": []
    }
  ]
}